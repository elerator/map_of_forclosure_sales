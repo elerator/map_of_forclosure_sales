{
 "cells": [
  {
   "cell_type": "code",
   "execution_count": 269,
   "metadata": {},
   "outputs": [
    {
     "data": {
      "text/plain": [
       "'curl \\'https://www.zvg-portal.de/index.php?button=Suchen\\'   -H \\'Connection: keep-alive\\'   -H \\'Cache-Control: max-age=0\\'   -H \\'sec-ch-ua: \" Not A;Brand\";v=\"99\", \"Chromium\";v=\"90\", \"Google Chrome\";v=\"90\"\\'   -H \\'sec-ch-ua-mobile: ?0\\'   -H \\'Upgrade-Insecure-Requests: 1\\'   -H \\'Origin: https://www.zvg-portal.de\\'   -H \\'Content-Type: application/x-www-form-urlencoded\\'   -H \\'User-Agent: Mozilla/5.0 (Windows NT 10.0; Win64; x64) AppleWebKit/537.36 (KHTML, like Gecko) Chrome/90.0.4430.93 Safari/537.36\\'   -H \\'Accept: text/html,application/xhtml+xml,application/xml;q=0.9,image/avif,image/webp,image/apng,*/*;q=0.8,application/signed-exchange;v=b3;q=0.9\\'   -H \\'Sec-Fetch-Site: same-origin\\'   -H \\'Sec-Fetch-Mode: navigate\\'   -H \\'Sec-Fetch-User: ?1\\'   -H \\'Sec-Fetch-Dest: document\\'   -H \\'Referer: https://www.zvg-portal.de/index.php?button=Termine%20suchen\\'   -H \\'Accept-Language: en-GB,en;q=0.9\\'   --data-raw \\'ger_name=--+Alle+Amtsgerichte+--&order_by=2&land_abk=bw&ger_id=0&az1=&az2=&az3=&az4=&art=&obj=&str=&hnr=&plz=&ort=&ortsteil=&vtermin=&btermin=\\''"
      ]
     },
     "execution_count": 269,
     "metadata": {},
     "output_type": "execute_result"
    }
   ],
   "source": [
    "cmd"
   ]
  },
  {
   "cell_type": "code",
   "execution_count": 387,
   "metadata": {},
   "outputs": [],
   "source": [
    "def get_curl_cmd_search_pages(land_abk = \"bw\", page_no = \"1\"):\n",
    "    string1 = \"curl 'https://www.zvg-portal.de/index.php?button=Suchen&seite=\"\n",
    "    string2 = page_no + \"\"\"&l=1&r=8&all=&order_by=-1&desc=-1'   -H 'Connection: keep-alive'   -H 'Cache-Control: max-age=0'   -H 'sec-ch-ua: \" Not A;Brand\";v=\"99\", \"Chromium\";v=\"90\", \"Google Chrome\";v=\"90\"'   -H 'sec-ch-ua-mobile: ?0'   -H 'Upgrade-Insecure-Requests: 1'   -H 'Origin: https://www.zvg-portal.de'   -H 'Content-Type: application/x-www-form-urlencoded'   -H 'User-Agent: Mozilla/5.0 (Windows NT 10.0; Win64; x64) AppleWebKit/537.36 (KHTML, like Gecko) Chrome/90.0.4430.93 Safari/537.36'   -H 'Accept: text/html,application/xhtml+xml,application/xml;q=0.9,image/avif,image/webp,image/apng,*/*;q=0.8,application/signed-exchange;v=b3;q=0.9'   -H 'Sec-Fetch-Site: same-origin'   -H 'Sec-Fetch-Mode: navigate'   -H 'Sec-Fetch-User: ?1'   -H 'Sec-Fetch-Dest: document'   -H 'Referer: https://www.zvg-portal.de/index.php?button=Termine%20suchen'   -H 'Accept-Language: en-GB,en;q=0.9'   --data-raw 'ger_name=--+Alle+Amtsgerichte+--&order_by=2&land_abk=\"\"\"\n",
    "    string3 = land_abk + \"\"\"&ger_id=0&az1=&az2=&az3=&az4=&art=&obj=&str=&hnr=&plz=&ort=&ortsteil=&vtermin=&btermin='\"\"\"\n",
    "    string = string1 + string2 + string3\n",
    "    return string\n",
    "\n",
    "def get_curl_cmd_result_detail(url = \"\"):\n",
    "    cmd = \"\"\"curl '{url}' \\\n",
    "          -H 'Connection: keep-alive' \\\n",
    "          -H 'Cache-Control: max-age=0' \\\n",
    "          -H 'sec-ch-ua: \" Not A;Brand\";v=\"99\", \"Chromium\";v=\"90\", \"Google Chrome\";v=\"90\"' \\\n",
    "          -H 'sec-ch-ua-mobile: ?0' \\\n",
    "          -H 'Upgrade-Insecure-Requests: 1' \\\n",
    "          -H 'User-Agent: Mozilla/5.0 (Windows NT 10.0; Win64; x64) AppleWebKit/537.36 (KHTML, like Gecko) Chrome/90.0.4430.93 Safari/537.36' \\\n",
    "          -H 'Accept: text/html,application/xhtml+xml,application/xml;q=0.9,image/avif,image/webp,image/apng,*/*;q=0.8,application/signed-exchange;v=b3;q=0.9' \\\n",
    "          -H 'Sec-Fetch-Site: same-origin' \\\n",
    "          -H 'Sec-Fetch-Mode: navigate' \\\n",
    "          -H 'Sec-Fetch-User: ?1' \\\n",
    "          -H 'Sec-Fetch-Dest: document' \\\n",
    "          -H 'Referer: https://www.zvg-portal.de/index.php?button=Suchen' \\\n",
    "          -H 'Accept-Language: en-GB,en-US;q=0.9,en;q=0.8,de;q=0.7' \\\n",
    "  --compressed\"\"\".format(url = url)\n",
    "    return cmd"
   ]
  },
  {
   "cell_type": "code",
   "execution_count": 367,
   "metadata": {},
   "outputs": [],
   "source": [
    "string = get_curl_cmd_search_pages()"
   ]
  },
  {
   "cell_type": "code",
   "execution_count": 410,
   "metadata": {},
   "outputs": [],
   "source": [
    "import shlex\n",
    "import subprocess\n",
    "import chardet\n",
    "\n",
    "def execute_command(cmd):\n",
    "    args = shlex.split(cmd)\n",
    "    process = subprocess.Popen(args, shell=False, stdout=subprocess.PIPE, stderr=subprocess.PIPE)\n",
    "    stdout, stderr = process.communicate()\n",
    "\n",
    "    #print(chardet.detect(stdout)['encoding'])\n",
    "    result = stdout.decode(\"utf-8\",\"ignore\") \n",
    "    return result, stdout, stderr"
   ]
  },
  {
   "cell_type": "code",
   "execution_count": 388,
   "metadata": {
    "scrolled": true
   },
   "outputs": [
    {
     "name": "stdout",
     "output_type": "stream",
     "text": [
      "ISO-8859-1\n"
     ]
    },
    {
     "data": {
      "text/html": [
       "\n",
       "<!DOCTYPE html PUBLIC \"-//W3C//DTD XHTML 1.0 Transitional//EN\" \"http://www.w3.org/TR/xhtml1/DTD/xhtml1-transitional.dtd\">\n",
       "<html xmlns=\"http://www.w3.org/1999/xhtml\" xml:lang=\"de\" lang=\"de\">\n",
       "    <head>\n",
       "        <title>Justizportal - Verfahren</title>\n",
       "        <meta http-equiv=\"Content-Type\" content=\"text/html; charset=ISO-8859-1\" />\n",
       "        <meta content=\"Justizportal des Bundes und der Lnder\" name=\"DC.Description\" />\n",
       "        <meta content=\"Referat ffentlichkeitsarbeit\" name=\"DC.Author\" />\n",
       "        <meta content=\"Justizportal des Bundes und der Lnder\" name=\"DC.Page-topic\" />\n",
       "\t\n",
       "\t<meta content=\"noindex,nofollow,nosnippet,noarchive,noodp\" name=\"Robots\" />\n",
       "\n",
       "        <link href=\"mailto:redaktion@justiz.de\" title=\"Mail\" rel=\"author\" />\n",
       "        <link href=\"https://justiz.de/Uebersicht.php\" title=\"Inhaltsverzeichnis\" rel=\"contents\" />\n",
       "        <link href=\"https://justiz.de/index.php\" title=\"Startseite\" rel=\"start\" />\n",
       "        <link href=\"https://justiz.de/Impressum.php\" title=\"Impressum\" rel=\"copyright\" />\n",
       "        <link href=\"https://justiz.de/index.php#suchzeile\" title=\"Suchen\" rel=\"search\" />\n",
       "<link rel=\"icon\" href=\"images/favicon.ico\" type=\"image/x-icon\">\n",
       "\n",
       "<LINK title=Basis-Stylesheet href=\"images/basis.css\" type=text/css rel=stylesheet >\n",
       "\n",
       "    </head>\n",
       "\n",
       "    <body>\n",
       "        <!-- Kopfbereich -->\n",
       "        <a name=\"top\"></a>\n",
       "        <a href=\"https://justiz.de/\" title=\"Link zur Startseite\"><img src=\"images/justitia.gif\" alt=\"Justitia auf Deutschlandkarte\" id=\"logo\" height=\"132\" width=\"160\"></a>\n",
       "        <h1 id=\"kopf\">Zwangsversteigerungstermine</h1>\n",
       "        <div id=\"micronavi\" ><!-- Micronavi -->\n",
       "        Sie sind hier:\n",
       "            <ul>\n",
       "                Amtsgericht: Ravensburg in Baden-Wuerttemberg            </ul>\n",
       "        </div><!-- ende Micronavi -->\n",
       "\n",
       "\n",
       "\n",
       "        <!-- Ende Kopfbereich -->\n",
       "\n",
       "<div id=\"container\"><!-- Container -->\n",
       "<div id=\"navi\" class=\"noprint\"> <!-- Navigation linke Seite -->\n",
       "            <ul class=\"hinterlegt\">\n",
       "\t\t<li><a href='index.php?button=Termine suchen'\n",
       "\t\t\t\t\t >Termine suchen</a></li>\n",
       "\t\t\n",
       "\t\t <li><a href='index.php?button=Uebersicht'\n",
       "                                         >&Uuml;bersicht</a></li>\n",
       "\n",
       "\t\t <li><a href='index.php?button=Hinweise fuer Bieter'\n",
       "                                         >Hinweise f&uuml;r Bieter</a></li>\n",
       "\n",
       "\t\t <li><a href='index.php?button=handbuch&sess_clean=1' target=_blanc\n",
       "                                         >Bieter Handbuch</a></li>\n",
       "\n",
       "            </ul>\n",
       "            <ul class=\"binnennavi\">\n",
       "                <li><a href=\"index.php?button=Startseite\" title=\"Startseite\">Startseite</a></li>\n",
       "                <li><a href=\"index.php?button=Impressum\">Impressum</a></li>\n",
       "                <li><a href=\"https://justiz.de/rechtliche_hinweise/index.php\" target=_blank>Rechtliche Hinweise</a></li>\n",
       "    \t\t<li><a href=\"index.php?button=Kontakt\">Kontakt</a></li>\n",
       "            </ul>\n",
       "                <div id=\"zusatznavi\">\n",
       "\n",
       "</div>\n",
       "\n",
       "            <form action=\"https://justiz.de/suchergebnis/index.php\" method=\"get\"><label class=\"small\" for=\"query\">Suche</label><br>\n",
       "                <input name=\"q\" id=\"suchzeile\" type=\"text\"><input src=\"images/lupe.gif\" alt=\"\" type=\"image\">\n",
       "            </form>\n",
       "        </div> <!-- Ende Navigation -->\n",
       "\n",
       "        <div id=\"inhalt\"><!-- Inhalt -->\n",
       "                <p>\n",
       "<table border=0 id=anzeige>\n",
       "<tr><td valign=top align=left><b>0001&nbsp;K&nbsp;0020/&nbsp;2019</b></td><td align=right><nobr>(letzte Aktualisierung: 19-03-2021 08:44)</nobr></td></tr>\n",
       "<tr><td valign=top align=left><NOBR>Art der Versteigerung:</nobr></td><td valign=top align=left>Zwangsversteigerung zum Zwecke der Aufhebung der Gemeinschaft</td></tr><tr><td valign=top align=left>Grundbuch:</td><td valign=top align=left><p>Reichenhofen, Blatt 1192</p></td></tr><tr><td valign=top align=left>Objekt/Lage:</td><td valign=top align=left><b>unbebautes Grundst&uuml;ck:</b> Unterzeil , 88299  Leutkirch , Reichenhofen </td></tr><tr><td valign=top align=left>Beschreibung:</td><td valign=top align=left><p>&nbsp;</p>\r\n",
       "<table style=\"margin: 0px; border-collapse: collapse;\" border=\"0\" cellspacing=\"0\" cellpadding=\"0\">\r\n",
       "<tbody>\r\n",
       "<tr style=\"mso-yfti-irow: 0; mso-yfti-firstrow: yes;\">\r\n",
       "<td style=\"margin: 0px; padding: 0cm 5.4pt 0cm 0.75pt; border: 1.33px solid #000000; border-image: none; width: 112.5pt; background-color: transparent;\" width=\"150\" valign=\"top\">\r\n",
       "<p style=\"margin: 0px; text-align: center; line-height: normal;\" align=\"center\"><strong style=\"mso-bidi-font-weight: normal;\"><span style=\"margin: 0px; font-family: &quot;Arial&quot;,sans-serif;\">Gemarkung</span></strong></p>\r\n",
       "</td>\r\n",
       "<td style=\"margin: 0px; padding: 0cm 5.4pt 0cm 0.75pt; border-image: none; width: 54pt; background-color: transparent; border: 1.33px 1.33px 1.33px 0px solid solid solid none #000000;\" width=\"74\" valign=\"top\">\r\n",
       "<p style=\"margin: 0px; text-align: center; line-height: normal;\" align=\"center\"><strong style=\"mso-bidi-font-weight: normal;\"><span style=\"margin: 0px; font-family: &quot;Arial&quot;,sans-serif;\">Flurst&uuml;ck</span></strong></p>\r\n",
       "</td>\r\n",
       "<td style=\"margin: 0px; padding: 0cm 5.4pt 0cm 0.75pt; border-image: none; width: 112.5pt; background-color: transparent; border: 1.33px 1.33px 1.33px 0px solid solid solid none #000000;\" width=\"153\" valign=\"top\">\r\n",
       "<p style=\"margin: 0px; text-align: center; line-height: normal;\" align=\"center\"><strong style=\"mso-bidi-font-weight: normal;\"><span style=\"margin: 0px; font-family: &quot;Arial&quot;,sans-serif;\">Wirtschaftsart u. Lage</span></strong></p>\r\n",
       "</td>\r\n",
       "<td style=\"margin: 0px; padding: 0cm 5.4pt 0cm 0.75pt; border-image: none; width: 112.5pt; background-color: transparent; border: 1.33px 1.33px 1.33px 0px solid solid solid none #000000;\" width=\"150\" valign=\"top\">\r\n",
       "<p style=\"margin: 0px; text-align: center; line-height: normal;\" align=\"center\"><strong style=\"mso-bidi-font-weight: normal;\"><span style=\"margin: 0px; font-family: &quot;Arial&quot;,sans-serif;\">Anschrift</span></strong></p>\r\n",
       "</td>\r\n",
       "<td style=\"margin: 0px; padding: 0cm 5.4pt 0cm 0.75pt; border-image: none; width: 40.5pt; background-color: transparent; border: 1.33px 1.33px 1.33px 0px solid solid solid none #000000;\" width=\"54\" valign=\"top\">\r\n",
       "<p style=\"margin: 0px; text-align: center; line-height: normal;\" align=\"center\"><strong style=\"mso-bidi-font-weight: normal;\"><span style=\"margin: 0px; font-family: &quot;Arial&quot;,sans-serif;\">m&sup2;</span></strong></p>\r\n",
       "</td>\r\n",
       "<td style=\"margin: 0px; padding: 0cm 5.4pt 0cm 0.75pt; border-image: none; width: 40.5pt; background-color: transparent; border: 1.33px 1.33px 1.33px 0px solid solid solid none #000000;\" width=\"54\" valign=\"top\">\r\n",
       "<p style=\"margin: 0px; text-align: center; line-height: normal;\" align=\"center\"><strong style=\"mso-bidi-font-weight: normal;\"><span style=\"margin: 0px; font-family: &quot;Arial&quot;,sans-serif;\">Blatt</span></strong></p>\r\n",
       "</td>\r\n",
       "</tr>\r\n",
       "<tr style=\"mso-yfti-irow: 1; mso-yfti-lastrow: yes;\">\r\n",
       "<td style=\"margin: 0px; padding: 0cm 5.4pt 0cm 0.75pt; border-image: none; width: 112.5pt; background-color: transparent; border: 0px 1.33px 1.33px none solid solid #000000;\" width=\"150\" valign=\"top\">\r\n",
       "<p style=\"margin: 0px; line-height: normal;\"><span style=\"margin: 0px; font-family: &quot;Arial&quot;,sans-serif;\">Reichenhofen</span></p>\r\n",
       "</td>\r\n",
       "<td style=\"margin: 0px; padding: 0cm 5.4pt 0cm 0.75pt; width: 54pt; background-color: transparent; border: 0px 1.33px 1.33px 0px none solid solid none #000000;\" width=\"74\" valign=\"top\">\r\n",
       "<p style=\"margin: 0px 0px 0px 19px; text-align: center; line-height: normal; text-indent: -14.25pt;\" align=\"center\"><span style=\"margin: 0px; font-family: &quot;Arial&quot;,sans-serif;\">3031/11</span></p>\r\n",
       "</td>\r\n",
       "<td style=\"margin: 0px; padding: 0cm 5.4pt 0cm 0.75pt; width: 112.5pt; background-color: transparent; border: 0px 1.33px 1.33px 0px none solid solid none #000000;\" width=\"153\" valign=\"top\">\r\n",
       "<p style=\"margin: 0px; line-height: normal;\"><span style=\"margin: 0px; font-family: &quot;Arial&quot;,sans-serif;\">Geb&auml;ude- und Freifl&auml;che,   Landwirtschaftsfl&auml;che, Verkehrsfl&auml;che</span></p>\r\n",
       "</td>\r\n",
       "<td style=\"margin: 0px; padding: 0cm 5.4pt 0cm 0.75pt; width: 112.5pt; background-color: transparent; border: 0px 1.33px 1.33px 0px none solid solid none #000000;\" width=\"150\" valign=\"top\">\r\n",
       "<p style=\"margin: 0px; line-height: normal;\"><span style=\"margin: 0px; font-family: &quot;Arial&quot;,sans-serif;\">Sandgrube</span></p>\r\n",
       "</td>\r\n",
       "<td style=\"margin: 0px; padding: 0cm 5.4pt 0cm 0.75pt; width: 40.5pt; background-color: transparent; border: 0px 1.33px 1.33px 0px none solid solid none #000000;\" width=\"54\" valign=\"top\">\r\n",
       "<p style=\"margin: 0px 0px 0px 19px; text-align: center; line-height: normal; text-indent: -14.25pt;\" align=\"center\"><span style=\"margin: 0px; font-family: &quot;Arial&quot;,sans-serif;\">19.940</span></p>\r\n",
       "</td>\r\n",
       "<td style=\"margin: 0px; padding: 0cm 5.4pt 0cm 0.75pt; width: 40.5pt; background-color: transparent; border: 0px 1.33px 1.33px 0px none solid solid none #000000;\" width=\"54\" valign=\"top\">\r\n",
       "<p style=\"margin: 0px 0px 0px 19px; text-align: center; line-height: normal; text-indent: -14.25pt;\" align=\"center\"><span style=\"margin: 0px; font-family: &quot;Arial&quot;,sans-serif;\">1192,   BV-Nr. 1</span></p>\r\n",
       "</td>\r\n",
       "</tr>\r\n",
       "</tbody>\r\n",
       "</table>\r\n",
       "<p>&nbsp;</p>\r\n",
       "<p style=\"margin: 0px; line-height: normal;\"><span style=\"margin: 0px; font-family: &quot;Arial&quot;,sans-serif;\">Zusatz: BV-Nr. 2 zu 1:<br /> Zufahrtsrecht durch den Hofraum bei Geb. 12.<br /> <br /> BV-Nr. 3 zu 1:<br /> Recht zum Wasserbezug aus Parz. Nr. 7/1, 10/1, 10/3 und zur Wasserleitung durch die genannten Parzellen sowie Parz. Nr. 16/2, 14, 13/2 und Hofraum von Geb. Nr. 12 s&auml;mtl. Markung Unterzeil gemeinschaftlich mit Geb. Nrn. 12 und 10, 11 und 13.<br /> <br /> BV-Nr. 4 zu 1: <br /> Der Eigent&uuml;mer kann bestimmen, wo die Gemeinde in der in dieser Parzelle befindlichen Kiesgrube das Kies graben darf.</span></p>\r\n",
       "<p><strong></strong><em></em></p></td></tr>\n",
       "<tr><td valign=top align=left>Verkehrswert in &#128;:</td><td valign=top align=left><p>195.000,00</p></td></tr>\n",
       "<tr><td valign=top align=left>Termin:</td><td valign=top align=left><b>Dienstag, 25. Mai 2021, 09:00 Uhr</b></td></tr>\n",
       "<tr><td valign=top align=left><nobr>Ort der Versteigerung:</nobr></td><td valign=top align=left>Kornhaussaal, Marienplatz 12, 88212 Ravensburg </td></tr><tr><td valign=top align=left>Gericht:</td><td valign=top align=left><a target=_blank href='http://www.amtsgericht-ravensburg.de'>Internetseite des Gerichtes</a> <img class=screen src=images/externer_Link.gif title='externer Link, &ouml;ffnet neues Browserfenster' height=12 width=13></td></tr><tr><td valign=top align=left>GeoServer:</td><td valign=top align=left><a target=_blank href=\"http://maps.google.de/maps?f=q&hl=de&geocode=&q=Unterzeil +,88299+ Leutkirch &sll=51.151786,10.415039&sspn=9.101599,16.54541&ie=UTF8&t=h&z=16\">Karten, Luftbilder</a> <img class=screen src=images/externer_Link.gif title='externer Link, &ouml;ffnet neues Browserfenster' height=12 width=13></td></tr><!--- Start Anhaenge --->\n",
       "<tr><td colspan=2><hr></td></tr></table>\n",
       "<!--- Ende Anhaenge --->\n",
       "</p>\n",
       "        </div><!-- ende Inhalt -->\n",
       "\n",
       "         <div id=\"addinfo\"><!-- ende Addinfo -->\n",
       "            <h3>Weitere Infos</h3>\n",
       "            <ul>\n",
       "                <li class=\"publication\"><a target=_blank  href=\"https://justiz.de\">Justizportal des Bundes und der L&auml;nder</a></li>\n",
       "                <li class=\"publication\"><a target=_blank  href=\"http://www.handelsregister.de\">Gemeinsames Registerportal der L&auml;nder</a></li>\n",
       "                <!-- li class=\"publication\"><a target=_blank  href=\"Zustaendigkeitsliste.pdf\">Liste der zust&auml;ndigen Registrierungsbeh&ouml;rden</a></li -->\n",
       "                <!-- li class=\"publication\"><a  href=\"index.php?button=Antragsformulare&sess_clean=1\">Antragsformulare</a></li-->\n",
       "            </ul>\n",
       "        </div><!-- ende Addinfo -->\n",
       "\n",
       "<div class=\"screen\" id=\"footer\"><!-- Footer -->\n",
       "             <p><nobr><a href=\"javascript:window.print()\">Seite drucken</a>&nbsp;.&nbsp;<a href=\"#inhalt\">zum Anfang</a></nobr></p>\n",
       "        </div><!-- Ende Footer -->\n",
       "\n",
       " </div><!-- ende Container -->\n",
       "\n",
       "    </body>\n",
       "</html>\n",
       "\n"
      ],
      "text/plain": [
       "<IPython.core.display.HTML object>"
      ]
     },
     "execution_count": 388,
     "metadata": {},
     "output_type": "execute_result"
    }
   ],
   "source": [
    "HTML(execute_command(get_curl_cmd_result_detail(\"https://www.zvg-portal.de/index.php?button=showZvg&zvg_id=7352&land_abk=bw\"))[0])"
   ]
  },
  {
   "cell_type": "code",
   "execution_count": 851,
   "metadata": {},
   "outputs": [],
   "source": [
    "from bs4 import BeautifulSoup\n",
    "import pandas as pd\n",
    "import numpy as np"
   ]
  },
  {
   "cell_type": "code",
   "execution_count": 1203,
   "metadata": {},
   "outputs": [],
   "source": [
    "import datetime\n",
    "def replace_all(text, dic):\n",
    "    found = False\n",
    "    for i, j in dic.items():\n",
    "        if i in text:\n",
    "            text = j\n",
    "            found = True\n",
    "    if not found:\n",
    "        print(text)\n",
    "        text = None\n",
    "    return text\n",
    "\n",
    "def scrape_page(land_abk = \"bw\", page_no = 1):\n",
    "    page_no = str(page_no)\n",
    "    string = get_curl_cmd_search_pages(land_abk, page_no)\n",
    "    soup = BeautifulSoup(execute_command(string)[0])\n",
    "    pages_buttons = soup.find_all(\"button\", {\"class\": \"seiten_nr\"})\n",
    "    n_pages = len(pages_buttons)//2\n",
    "    \n",
    "    objekt_lage = [td.parent for td in soup.findAll(\"td\", string = \"Objekt/Lage\")]\n",
    "    amtsgericht = [ol.find_previous_sibling('tr') for ol in objekt_lage]\n",
    "    aktenzeichen_link = [am.find_previous_sibling('tr') for am in amtsgericht]\n",
    "    verkehrswert = [ol.find_next_sibling('tr') for ol in objekt_lage]\n",
    "    vks_text = [str(list(v.children)[1].text) for v in verkehrswert]\n",
    "    termin = [val.find_next_sibling('tr') for val in verkehrswert]\n",
    "    \n",
    "    links = [\"https://www.zvg-portal.de/\"+a.findAll(\"a\")[0][\"href\"] for a in aktenzeichen_link]\n",
    "    aktenzeichen = [re.search(\"<nobr>(.*/.*[0-9]{4}).*</nobr>\",str(link.findAll(\"nobr\")[1])).groups(1)[0] for link in aktenzeichen_link]\n",
    "    plz = [re.search(\"[0-9]{5}\", str(a)).group() for a in objekt_lage]\n",
    "    address = [re.search(\"</b> (.*[0-9]{5}.*)</td>\", str(a)).groups(1)[0] for a in objekt_lage]\n",
    "    \n",
    "    days = [re.search(\"([0-9]+)\\..*\",t.text).groups(1)[0] for t in termin]\n",
    "    months = [re.search(\"[0-9]+\\. ([a-zA-Z]+) [0-9]+.*\",t.text).groups(1)[0] for t in termin]\n",
    "    years = [re.search(\"[0-9]+\\. [a-zA-Z]+ ([0-9]{4}).*\",t.text).groups(1)[0] for t in termin]\n",
    "\n",
    "    months_to_numbers = {\"Jan\":\"1\", \"Feb\":\"2\", \"Mar\":\"3\", \"Apr\":\"4\", \"Mai\":\"5\",\"Jun\":\"6\",\"Jul\":\"7\",\"Aug\":\"8\",\"Sep\":\"9\",\"Okt\":\"10\",\"Nov\":\"11\",\"Dez\":\"12\"}\n",
    "    months1 = [replace_all(m, months_to_numbers) for m in months]\n",
    "    \n",
    "    dates = []\n",
    "    for y, m, d in zip(years, months1, days):\n",
    "        try:\n",
    "            dates.append(pd.Timestamp(int(y),int(m),int(d)))\n",
    "        except:\n",
    "            print(y)\n",
    "            print(m)\n",
    "            print(d)\n",
    "            \n",
    "    amtsgericht = [list(a.children)[1].text for a in amtsgericht]\n",
    "    objekt_lage = [list(a.children)[1].text for a in objekt_lage]\n",
    " \n",
    "    vals = [list(re.findall(\"[0-9]*\\.*[0-9]*\\.*[0-9]*\\.*[0-9]*\\.*[0-9]+,[0-9\\-]+\",str(val.text))) for val in verkehrswert]\n",
    "    vals = [str([item.replace(\"-\",\"0\").replace(\".\",\";\").replace(\",\",\".\").replace(\";\",\",\") for item in sublist]) for sublist in vals]\n",
    "    \n",
    "    data = [aktenzeichen, amtsgericht, links, plz, address, objekt_lage, vals, vks_text, dates]\n",
    "    \n",
    "    df = pd.DataFrame(data).T\n",
    "    df.columns = [\"Aktenzeichen\", \"Amtsgericht\", \"Links\", \"PLZ\", \"Address\", \"Objekt/Lage\", \"Verkehrswerte\", \"Verkehrswert Text\",  \"Termin\"]\n",
    "    return n_pages, soup, df"
   ]
  },
  {
   "cell_type": "code",
   "execution_count": 1210,
   "metadata": {},
   "outputs": [
    {
     "data": {
      "text/plain": [
       "0   2021-05-25\n",
       "1   2021-06-08\n",
       "2   2021-06-10\n",
       "3   2021-06-10\n",
       "4   2021-06-10\n",
       "5   2021-06-10\n",
       "6   2021-06-14\n",
       "7   2021-06-16\n",
       "8   2021-06-17\n",
       "Name: Termin, dtype: datetime64[ns]"
      ]
     },
     "execution_count": 1210,
     "metadata": {},
     "output_type": "execute_result"
    }
   ],
   "source": [
    "scrape_page()[2][\"Termin\"]"
   ]
  },
  {
   "cell_type": "code",
   "execution_count": 1204,
   "metadata": {},
   "outputs": [],
   "source": [
    "df['Termin'] = df['Termin'].apply(lambda x: pd.Timestamp(x))"
   ]
  },
  {
   "cell_type": "code",
   "execution_count": 1205,
   "metadata": {},
   "outputs": [],
   "source": [
    "n_pages, soup, data = scrape_page()"
   ]
  },
  {
   "cell_type": "code",
   "execution_count": 1206,
   "metadata": {},
   "outputs": [],
   "source": [
    "pd.set_option('display.max_colwidth', None)"
   ]
  },
  {
   "cell_type": "code",
   "execution_count": 1207,
   "metadata": {},
   "outputs": [
    {
     "data": {
      "text/plain": [
       "Timestamp('2021-05-25 00:00:00')"
      ]
     },
     "execution_count": 1207,
     "metadata": {},
     "output_type": "execute_result"
    }
   ],
   "source": [
    "pd.Timestamp(df[\"Termin\"][0])"
   ]
  },
  {
   "cell_type": "markdown",
   "metadata": {},
   "source": [
    "https://www.zvg-portal.de/index.php?button=showZvg&zvg_id=7361&land_abk=bw\n",
    "\n",
    "\n",
    "https://www.zvg-portal.de/index.php?button=showZvg&zvg_id=7361&land_abk=bw"
   ]
  },
  {
   "cell_type": "code",
   "execution_count": 1024,
   "metadata": {},
   "outputs": [
    {
     "data": {
      "text/plain": [
       "7"
      ]
     },
     "execution_count": 1024,
     "metadata": {},
     "output_type": "execute_result"
    }
   ],
   "source": [
    "n_pages"
   ]
  },
  {
   "cell_type": "code",
   "execution_count": 1025,
   "metadata": {},
   "outputs": [
    {
     "data": {
      "text/plain": [
       "['Eschstraße 14, 88074 Meckenbeuren',\n",
       " 'Unterzeil , 88299  Leutkirch , Reichenhofen ',\n",
       " 'Beckenkreuz  11, 88471 Laupheim, Untersulmetingen',\n",
       " 'Hubenstr. 25, 68305 Mannheim, Waldhof',\n",
       " 'Mozartstraße 16, 77746 Schutterwald',\n",
       " 'Berliner Str. 7, 69502 Hemsbach',\n",
       " 'Jakob-Faulhaber-Str. 2, Schienenstr. 11, 68305 Mannheim, Waldhof']"
      ]
     },
     "execution_count": 1025,
     "metadata": {},
     "output_type": "execute_result"
    }
   ],
   "source": [
    "address"
   ]
  },
  {
   "cell_type": "code",
   "execution_count": 1072,
   "metadata": {},
   "outputs": [],
   "source": [
    "def scrape_pages(land_abk = \"be\"):\n",
    "    n_pages, _, data = scrape_page(land_abk, 1)\n",
    "    print(\".\", end = \"\")\n",
    "    if n_pages > 1:\n",
    "        for i in range(2, n_pages+1):\n",
    "            n_pages, _, data1 = scrape_page(land_abk, i)\n",
    "            data = data.append(data1, ignore_index = True)\n",
    "            print(\".\",end= \"\")\n",
    "    return data"
   ]
  },
  {
   "cell_type": "code",
   "execution_count": 1181,
   "metadata": {},
   "outputs": [],
   "source": [
    "def scrape_all(verbose = 0):\n",
    "    land_abks = [\"bw\", \"by\", \"be\", \"br\", \"hb\", \"hh\", \"he\", \"mv\", \"no\", \"nw\", \"rp\", \"sl\", \"sn\", \"st\", \"sh\", \"th\"]\n",
    "    dfs = scrape_pages(land_abks[0])\n",
    "    for abk in land_abks[1:]:\n",
    "        dfs = dfs.append(scrape_pages(abk), ignore_index=True)\n",
    "        if verbose == 0:\n",
    "            print(\"-\", end=\"\")\n",
    "    return dfs"
   ]
  },
  {
   "cell_type": "code",
   "execution_count": 1303,
   "metadata": {},
   "outputs": [],
   "source": [
    "with open(\"dfs.pkl\", \"rb\") as f:\n",
    "    dfs = pickle.load(f)"
   ]
  },
  {
   "cell_type": "code",
   "execution_count": 1305,
   "metadata": {},
   "outputs": [
    {
     "ename": "AttributeError",
     "evalue": "'DataFrame' object has no attribute '_data'",
     "output_type": "error",
     "traceback": [
      "\u001b[0;31m---------------------------------------------------------------------------\u001b[0m",
      "\u001b[0;31mAttributeError\u001b[0m                            Traceback (most recent call last)",
      "\u001b[0;32m~/anaconda3/lib/python3.7/site-packages/IPython/core/formatters.py\u001b[0m in \u001b[0;36m__call__\u001b[0;34m(self, obj)\u001b[0m\n\u001b[1;32m    700\u001b[0m                 \u001b[0mtype_pprinters\u001b[0m\u001b[0;34m=\u001b[0m\u001b[0mself\u001b[0m\u001b[0;34m.\u001b[0m\u001b[0mtype_printers\u001b[0m\u001b[0;34m,\u001b[0m\u001b[0;34m\u001b[0m\u001b[0;34m\u001b[0m\u001b[0m\n\u001b[1;32m    701\u001b[0m                 deferred_pprinters=self.deferred_printers)\n\u001b[0;32m--> 702\u001b[0;31m             \u001b[0mprinter\u001b[0m\u001b[0;34m.\u001b[0m\u001b[0mpretty\u001b[0m\u001b[0;34m(\u001b[0m\u001b[0mobj\u001b[0m\u001b[0;34m)\u001b[0m\u001b[0;34m\u001b[0m\u001b[0;34m\u001b[0m\u001b[0m\n\u001b[0m\u001b[1;32m    703\u001b[0m             \u001b[0mprinter\u001b[0m\u001b[0;34m.\u001b[0m\u001b[0mflush\u001b[0m\u001b[0;34m(\u001b[0m\u001b[0;34m)\u001b[0m\u001b[0;34m\u001b[0m\u001b[0;34m\u001b[0m\u001b[0m\n\u001b[1;32m    704\u001b[0m             \u001b[0;32mreturn\u001b[0m \u001b[0mstream\u001b[0m\u001b[0;34m.\u001b[0m\u001b[0mgetvalue\u001b[0m\u001b[0;34m(\u001b[0m\u001b[0;34m)\u001b[0m\u001b[0;34m\u001b[0m\u001b[0;34m\u001b[0m\u001b[0m\n",
      "\u001b[0;32m~/anaconda3/lib/python3.7/site-packages/IPython/lib/pretty.py\u001b[0m in \u001b[0;36mpretty\u001b[0;34m(self, obj)\u001b[0m\n\u001b[1;32m    403\u001b[0m                         \u001b[0;32mif\u001b[0m \u001b[0mcls\u001b[0m \u001b[0;32mis\u001b[0m \u001b[0;32mnot\u001b[0m \u001b[0mobject\u001b[0m\u001b[0;31m \u001b[0m\u001b[0;31m\\\u001b[0m\u001b[0;34m\u001b[0m\u001b[0;34m\u001b[0m\u001b[0m\n\u001b[1;32m    404\u001b[0m                                 \u001b[0;32mand\u001b[0m \u001b[0mcallable\u001b[0m\u001b[0;34m(\u001b[0m\u001b[0mcls\u001b[0m\u001b[0;34m.\u001b[0m\u001b[0m__dict__\u001b[0m\u001b[0;34m.\u001b[0m\u001b[0mget\u001b[0m\u001b[0;34m(\u001b[0m\u001b[0;34m'__repr__'\u001b[0m\u001b[0;34m)\u001b[0m\u001b[0;34m)\u001b[0m\u001b[0;34m:\u001b[0m\u001b[0;34m\u001b[0m\u001b[0;34m\u001b[0m\u001b[0m\n\u001b[0;32m--> 405\u001b[0;31m                             \u001b[0;32mreturn\u001b[0m \u001b[0m_repr_pprint\u001b[0m\u001b[0;34m(\u001b[0m\u001b[0mobj\u001b[0m\u001b[0;34m,\u001b[0m \u001b[0mself\u001b[0m\u001b[0;34m,\u001b[0m \u001b[0mcycle\u001b[0m\u001b[0;34m)\u001b[0m\u001b[0;34m\u001b[0m\u001b[0;34m\u001b[0m\u001b[0m\n\u001b[0m\u001b[1;32m    406\u001b[0m \u001b[0;34m\u001b[0m\u001b[0m\n\u001b[1;32m    407\u001b[0m             \u001b[0;32mreturn\u001b[0m \u001b[0m_default_pprint\u001b[0m\u001b[0;34m(\u001b[0m\u001b[0mobj\u001b[0m\u001b[0;34m,\u001b[0m \u001b[0mself\u001b[0m\u001b[0;34m,\u001b[0m \u001b[0mcycle\u001b[0m\u001b[0;34m)\u001b[0m\u001b[0;34m\u001b[0m\u001b[0;34m\u001b[0m\u001b[0m\n",
      "\u001b[0;32m~/anaconda3/lib/python3.7/site-packages/IPython/lib/pretty.py\u001b[0m in \u001b[0;36m_repr_pprint\u001b[0;34m(obj, p, cycle)\u001b[0m\n\u001b[1;32m    693\u001b[0m     \u001b[0;34m\"\"\"A pprint that just redirects to the normal repr function.\"\"\"\u001b[0m\u001b[0;34m\u001b[0m\u001b[0;34m\u001b[0m\u001b[0m\n\u001b[1;32m    694\u001b[0m     \u001b[0;31m# Find newlines and replace them with p.break_()\u001b[0m\u001b[0;34m\u001b[0m\u001b[0;34m\u001b[0m\u001b[0;34m\u001b[0m\u001b[0m\n\u001b[0;32m--> 695\u001b[0;31m     \u001b[0moutput\u001b[0m \u001b[0;34m=\u001b[0m \u001b[0mrepr\u001b[0m\u001b[0;34m(\u001b[0m\u001b[0mobj\u001b[0m\u001b[0;34m)\u001b[0m\u001b[0;34m\u001b[0m\u001b[0;34m\u001b[0m\u001b[0m\n\u001b[0m\u001b[1;32m    696\u001b[0m     \u001b[0mlines\u001b[0m \u001b[0;34m=\u001b[0m \u001b[0moutput\u001b[0m\u001b[0;34m.\u001b[0m\u001b[0msplitlines\u001b[0m\u001b[0;34m(\u001b[0m\u001b[0;34m)\u001b[0m\u001b[0;34m\u001b[0m\u001b[0;34m\u001b[0m\u001b[0m\n\u001b[1;32m    697\u001b[0m     \u001b[0;32mwith\u001b[0m \u001b[0mp\u001b[0m\u001b[0;34m.\u001b[0m\u001b[0mgroup\u001b[0m\u001b[0;34m(\u001b[0m\u001b[0;34m)\u001b[0m\u001b[0;34m:\u001b[0m\u001b[0;34m\u001b[0m\u001b[0;34m\u001b[0m\u001b[0m\n",
      "\u001b[0;32m~/anaconda3/lib/python3.7/site-packages/pandas/core/frame.py\u001b[0m in \u001b[0;36m__repr__\u001b[0;34m(self)\u001b[0m\n\u001b[1;32m    685\u001b[0m             \u001b[0mline_width\u001b[0m\u001b[0;34m=\u001b[0m\u001b[0mwidth\u001b[0m\u001b[0;34m,\u001b[0m\u001b[0;34m\u001b[0m\u001b[0;34m\u001b[0m\u001b[0m\n\u001b[1;32m    686\u001b[0m             \u001b[0mmax_colwidth\u001b[0m\u001b[0;34m=\u001b[0m\u001b[0mmax_colwidth\u001b[0m\u001b[0;34m,\u001b[0m\u001b[0;34m\u001b[0m\u001b[0;34m\u001b[0m\u001b[0m\n\u001b[0;32m--> 687\u001b[0;31m             \u001b[0mshow_dimensions\u001b[0m\u001b[0;34m=\u001b[0m\u001b[0mshow_dimensions\u001b[0m\u001b[0;34m,\u001b[0m\u001b[0;34m\u001b[0m\u001b[0;34m\u001b[0m\u001b[0m\n\u001b[0m\u001b[1;32m    688\u001b[0m         )\n\u001b[1;32m    689\u001b[0m \u001b[0;34m\u001b[0m\u001b[0m\n",
      "\u001b[0;32m~/anaconda3/lib/python3.7/site-packages/pandas/core/frame.py\u001b[0m in \u001b[0;36mto_string\u001b[0;34m(self, buf, columns, col_space, header, index, na_rep, formatters, float_format, sparsify, index_names, justify, max_rows, min_rows, max_cols, show_dimensions, decimal, line_width, max_colwidth, encoding)\u001b[0m\n\u001b[1;32m    816\u001b[0m                 \u001b[0mshow_dimensions\u001b[0m\u001b[0;34m=\u001b[0m\u001b[0mshow_dimensions\u001b[0m\u001b[0;34m,\u001b[0m\u001b[0;34m\u001b[0m\u001b[0;34m\u001b[0m\u001b[0m\n\u001b[1;32m    817\u001b[0m                 \u001b[0mdecimal\u001b[0m\u001b[0;34m=\u001b[0m\u001b[0mdecimal\u001b[0m\u001b[0;34m,\u001b[0m\u001b[0;34m\u001b[0m\u001b[0;34m\u001b[0m\u001b[0m\n\u001b[0;32m--> 818\u001b[0;31m                 \u001b[0mline_width\u001b[0m\u001b[0;34m=\u001b[0m\u001b[0mline_width\u001b[0m\u001b[0;34m,\u001b[0m\u001b[0;34m\u001b[0m\u001b[0;34m\u001b[0m\u001b[0m\n\u001b[0m\u001b[1;32m    819\u001b[0m             )\n\u001b[1;32m    820\u001b[0m             \u001b[0;32mreturn\u001b[0m \u001b[0mformatter\u001b[0m\u001b[0;34m.\u001b[0m\u001b[0mto_string\u001b[0m\u001b[0;34m(\u001b[0m\u001b[0mbuf\u001b[0m\u001b[0;34m=\u001b[0m\u001b[0mbuf\u001b[0m\u001b[0;34m,\u001b[0m \u001b[0mencoding\u001b[0m\u001b[0;34m=\u001b[0m\u001b[0mencoding\u001b[0m\u001b[0;34m)\u001b[0m\u001b[0;34m\u001b[0m\u001b[0;34m\u001b[0m\u001b[0m\n",
      "\u001b[0;32m~/anaconda3/lib/python3.7/site-packages/pandas/io/formats/format.py\u001b[0m in \u001b[0;36m__init__\u001b[0;34m(self, frame, columns, col_space, header, index, na_rep, formatters, justify, float_format, sparsify, index_names, line_width, max_rows, min_rows, max_cols, show_dimensions, decimal, table_id, render_links, bold_rows, escape)\u001b[0m\n\u001b[1;32m    593\u001b[0m         \u001b[0mself\u001b[0m\u001b[0;34m.\u001b[0m\u001b[0mmin_rows\u001b[0m \u001b[0;34m=\u001b[0m \u001b[0mmin_rows\u001b[0m\u001b[0;34m\u001b[0m\u001b[0;34m\u001b[0m\u001b[0m\n\u001b[1;32m    594\u001b[0m         \u001b[0mself\u001b[0m\u001b[0;34m.\u001b[0m\u001b[0mmax_cols\u001b[0m \u001b[0;34m=\u001b[0m \u001b[0mmax_cols\u001b[0m\u001b[0;34m\u001b[0m\u001b[0;34m\u001b[0m\u001b[0m\n\u001b[0;32m--> 595\u001b[0;31m         \u001b[0mself\u001b[0m\u001b[0;34m.\u001b[0m\u001b[0mmax_rows_displayed\u001b[0m \u001b[0;34m=\u001b[0m \u001b[0mmin\u001b[0m\u001b[0;34m(\u001b[0m\u001b[0mmax_rows\u001b[0m \u001b[0;32mor\u001b[0m \u001b[0mlen\u001b[0m\u001b[0;34m(\u001b[0m\u001b[0mself\u001b[0m\u001b[0;34m.\u001b[0m\u001b[0mframe\u001b[0m\u001b[0;34m)\u001b[0m\u001b[0;34m,\u001b[0m \u001b[0mlen\u001b[0m\u001b[0;34m(\u001b[0m\u001b[0mself\u001b[0m\u001b[0;34m.\u001b[0m\u001b[0mframe\u001b[0m\u001b[0;34m)\u001b[0m\u001b[0;34m)\u001b[0m\u001b[0;34m\u001b[0m\u001b[0;34m\u001b[0m\u001b[0m\n\u001b[0m\u001b[1;32m    596\u001b[0m         \u001b[0mself\u001b[0m\u001b[0;34m.\u001b[0m\u001b[0mshow_dimensions\u001b[0m \u001b[0;34m=\u001b[0m \u001b[0mshow_dimensions\u001b[0m\u001b[0;34m\u001b[0m\u001b[0;34m\u001b[0m\u001b[0m\n\u001b[1;32m    597\u001b[0m         \u001b[0mself\u001b[0m\u001b[0;34m.\u001b[0m\u001b[0mtable_id\u001b[0m \u001b[0;34m=\u001b[0m \u001b[0mtable_id\u001b[0m\u001b[0;34m\u001b[0m\u001b[0;34m\u001b[0m\u001b[0m\n",
      "\u001b[0;32m~/anaconda3/lib/python3.7/site-packages/pandas/core/frame.py\u001b[0m in \u001b[0;36m__len__\u001b[0;34m(self)\u001b[0m\n\u001b[1;32m   1039\u001b[0m         \u001b[0mReturns\u001b[0m \u001b[0mlength\u001b[0m \u001b[0mof\u001b[0m \u001b[0minfo\u001b[0m \u001b[0maxis\u001b[0m\u001b[0;34m,\u001b[0m \u001b[0mbut\u001b[0m \u001b[0mhere\u001b[0m \u001b[0mwe\u001b[0m \u001b[0muse\u001b[0m \u001b[0mthe\u001b[0m \u001b[0mindex\u001b[0m\u001b[0;34m.\u001b[0m\u001b[0;34m\u001b[0m\u001b[0;34m\u001b[0m\u001b[0m\n\u001b[1;32m   1040\u001b[0m         \"\"\"\n\u001b[0;32m-> 1041\u001b[0;31m         \u001b[0;32mreturn\u001b[0m \u001b[0mlen\u001b[0m\u001b[0;34m(\u001b[0m\u001b[0mself\u001b[0m\u001b[0;34m.\u001b[0m\u001b[0mindex\u001b[0m\u001b[0;34m)\u001b[0m\u001b[0;34m\u001b[0m\u001b[0;34m\u001b[0m\u001b[0m\n\u001b[0m\u001b[1;32m   1042\u001b[0m \u001b[0;34m\u001b[0m\u001b[0m\n\u001b[1;32m   1043\u001b[0m     \u001b[0;32mdef\u001b[0m \u001b[0mdot\u001b[0m\u001b[0;34m(\u001b[0m\u001b[0mself\u001b[0m\u001b[0;34m,\u001b[0m \u001b[0mother\u001b[0m\u001b[0;34m)\u001b[0m\u001b[0;34m:\u001b[0m\u001b[0;34m\u001b[0m\u001b[0;34m\u001b[0m\u001b[0m\n",
      "\u001b[0;32m~/anaconda3/lib/python3.7/site-packages/pandas/core/generic.py\u001b[0m in \u001b[0;36m__getattr__\u001b[0;34m(self, name)\u001b[0m\n\u001b[1;32m   5268\u001b[0m             \u001b[0;32mor\u001b[0m \u001b[0mname\u001b[0m \u001b[0;32min\u001b[0m \u001b[0mself\u001b[0m\u001b[0;34m.\u001b[0m\u001b[0m_accessors\u001b[0m\u001b[0;34m\u001b[0m\u001b[0;34m\u001b[0m\u001b[0m\n\u001b[1;32m   5269\u001b[0m         ):\n\u001b[0;32m-> 5270\u001b[0;31m             \u001b[0;32mreturn\u001b[0m \u001b[0mobject\u001b[0m\u001b[0;34m.\u001b[0m\u001b[0m__getattribute__\u001b[0m\u001b[0;34m(\u001b[0m\u001b[0mself\u001b[0m\u001b[0;34m,\u001b[0m \u001b[0mname\u001b[0m\u001b[0;34m)\u001b[0m\u001b[0;34m\u001b[0m\u001b[0;34m\u001b[0m\u001b[0m\n\u001b[0m\u001b[1;32m   5271\u001b[0m         \u001b[0;32melse\u001b[0m\u001b[0;34m:\u001b[0m\u001b[0;34m\u001b[0m\u001b[0;34m\u001b[0m\u001b[0m\n\u001b[1;32m   5272\u001b[0m             \u001b[0;32mif\u001b[0m \u001b[0mself\u001b[0m\u001b[0;34m.\u001b[0m\u001b[0m_info_axis\u001b[0m\u001b[0;34m.\u001b[0m\u001b[0m_can_hold_identifiers_and_holds_name\u001b[0m\u001b[0;34m(\u001b[0m\u001b[0mname\u001b[0m\u001b[0;34m)\u001b[0m\u001b[0;34m:\u001b[0m\u001b[0;34m\u001b[0m\u001b[0;34m\u001b[0m\u001b[0m\n",
      "\u001b[0;32mpandas/_libs/properties.pyx\u001b[0m in \u001b[0;36mpandas._libs.properties.AxisProperty.__get__\u001b[0;34m()\u001b[0m\n",
      "\u001b[0;32m~/anaconda3/lib/python3.7/site-packages/pandas/core/generic.py\u001b[0m in \u001b[0;36m__getattr__\u001b[0;34m(self, name)\u001b[0m\n\u001b[1;32m   5268\u001b[0m             \u001b[0;32mor\u001b[0m \u001b[0mname\u001b[0m \u001b[0;32min\u001b[0m \u001b[0mself\u001b[0m\u001b[0;34m.\u001b[0m\u001b[0m_accessors\u001b[0m\u001b[0;34m\u001b[0m\u001b[0;34m\u001b[0m\u001b[0m\n\u001b[1;32m   5269\u001b[0m         ):\n\u001b[0;32m-> 5270\u001b[0;31m             \u001b[0;32mreturn\u001b[0m \u001b[0mobject\u001b[0m\u001b[0;34m.\u001b[0m\u001b[0m__getattribute__\u001b[0m\u001b[0;34m(\u001b[0m\u001b[0mself\u001b[0m\u001b[0;34m,\u001b[0m \u001b[0mname\u001b[0m\u001b[0;34m)\u001b[0m\u001b[0;34m\u001b[0m\u001b[0;34m\u001b[0m\u001b[0m\n\u001b[0m\u001b[1;32m   5271\u001b[0m         \u001b[0;32melse\u001b[0m\u001b[0;34m:\u001b[0m\u001b[0;34m\u001b[0m\u001b[0;34m\u001b[0m\u001b[0m\n\u001b[1;32m   5272\u001b[0m             \u001b[0;32mif\u001b[0m \u001b[0mself\u001b[0m\u001b[0;34m.\u001b[0m\u001b[0m_info_axis\u001b[0m\u001b[0;34m.\u001b[0m\u001b[0m_can_hold_identifiers_and_holds_name\u001b[0m\u001b[0;34m(\u001b[0m\u001b[0mname\u001b[0m\u001b[0;34m)\u001b[0m\u001b[0;34m:\u001b[0m\u001b[0;34m\u001b[0m\u001b[0;34m\u001b[0m\u001b[0m\n",
      "\u001b[0;31mAttributeError\u001b[0m: 'DataFrame' object has no attribute '_data'"
     ]
    }
   ],
   "source": [
    "dfs"
   ]
  },
  {
   "cell_type": "code",
   "execution_count": 1295,
   "metadata": {},
   "outputs": [
    {
     "ename": "AttributeError",
     "evalue": "'DataFrame' object has no attribute '_data'",
     "output_type": "error",
     "traceback": [
      "\u001b[0;31m---------------------------------------------------------------------------\u001b[0m",
      "\u001b[0;31mAttributeError\u001b[0m                            Traceback (most recent call last)",
      "\u001b[0;32m<ipython-input-1295-7459f83c4407>\u001b[0m in \u001b[0;36m<module>\u001b[0;34m\u001b[0m\n\u001b[1;32m      2\u001b[0m     \u001b[0mplz_to_long_lat\u001b[0m \u001b[0;34m=\u001b[0m \u001b[0mjson\u001b[0m\u001b[0;34m.\u001b[0m\u001b[0mloads\u001b[0m\u001b[0;34m(\u001b[0m\u001b[0mf\u001b[0m\u001b[0;34m.\u001b[0m\u001b[0mread\u001b[0m\u001b[0;34m(\u001b[0m\u001b[0;34m)\u001b[0m\u001b[0;34m)\u001b[0m\u001b[0;34m\u001b[0m\u001b[0;34m\u001b[0m\u001b[0m\n\u001b[1;32m      3\u001b[0m \u001b[0mlong\u001b[0m\u001b[0;34m,\u001b[0m \u001b[0mlat\u001b[0m \u001b[0;34m=\u001b[0m \u001b[0;34m[\u001b[0m\u001b[0;34m]\u001b[0m\u001b[0;34m,\u001b[0m \u001b[0;34m[\u001b[0m\u001b[0;34m]\u001b[0m\u001b[0;34m\u001b[0m\u001b[0;34m\u001b[0m\u001b[0m\n\u001b[0;32m----> 4\u001b[0;31m \u001b[0;32mfor\u001b[0m \u001b[0mline\u001b[0m \u001b[0;32min\u001b[0m \u001b[0mdfs\u001b[0m\u001b[0;34m.\u001b[0m\u001b[0mitems\u001b[0m\u001b[0;34m(\u001b[0m\u001b[0;34m)\u001b[0m\u001b[0;34m:\u001b[0m\u001b[0;34m\u001b[0m\u001b[0;34m\u001b[0m\u001b[0m\n\u001b[0m\u001b[1;32m      5\u001b[0m     \u001b[0mlong\u001b[0m\u001b[0;34m.\u001b[0m\u001b[0mappend\u001b[0m\u001b[0;34m(\u001b[0m\u001b[0mplz_to_long_lat\u001b[0m\u001b[0;34m(\u001b[0m\u001b[0mline\u001b[0m\u001b[0;34m[\u001b[0m\u001b[0;34m\"PLZ\"\u001b[0m\u001b[0;34m]\u001b[0m\u001b[0;34m)\u001b[0m\u001b[0;34m[\u001b[0m\u001b[0;36m0\u001b[0m\u001b[0;34m]\u001b[0m\u001b[0;34m)\u001b[0m\u001b[0;34m\u001b[0m\u001b[0;34m\u001b[0m\u001b[0m\n\u001b[1;32m      6\u001b[0m     \u001b[0mlat\u001b[0m\u001b[0;34m.\u001b[0m\u001b[0mappend\u001b[0m\u001b[0;34m(\u001b[0m\u001b[0mplz_to_long_lat\u001b[0m\u001b[0;34m(\u001b[0m\u001b[0mline\u001b[0m\u001b[0;34m[\u001b[0m\u001b[0;34m\"PLZ\"\u001b[0m\u001b[0;34m]\u001b[0m\u001b[0;34m)\u001b[0m\u001b[0;34m[\u001b[0m\u001b[0;36m1\u001b[0m\u001b[0;34m]\u001b[0m\u001b[0;34m)\u001b[0m\u001b[0;34m\u001b[0m\u001b[0;34m\u001b[0m\u001b[0m\n",
      "\u001b[0;32m~/anaconda3/lib/python3.7/site-packages/pandas/core/frame.py\u001b[0m in \u001b[0;36mitems\u001b[0;34m(self)\u001b[0m\n\u001b[1;32m    890\u001b[0m     \u001b[0;34m@\u001b[0m\u001b[0mAppender\u001b[0m\u001b[0;34m(\u001b[0m\u001b[0m_shared_docs\u001b[0m\u001b[0;34m[\u001b[0m\u001b[0;34m\"items\"\u001b[0m\u001b[0;34m]\u001b[0m\u001b[0;34m)\u001b[0m\u001b[0;34m\u001b[0m\u001b[0;34m\u001b[0m\u001b[0m\n\u001b[1;32m    891\u001b[0m     \u001b[0;32mdef\u001b[0m \u001b[0mitems\u001b[0m\u001b[0;34m(\u001b[0m\u001b[0mself\u001b[0m\u001b[0;34m)\u001b[0m \u001b[0;34m->\u001b[0m \u001b[0mIterable\u001b[0m\u001b[0;34m[\u001b[0m\u001b[0mTuple\u001b[0m\u001b[0;34m[\u001b[0m\u001b[0mOptional\u001b[0m\u001b[0;34m[\u001b[0m\u001b[0mHashable\u001b[0m\u001b[0;34m]\u001b[0m\u001b[0;34m,\u001b[0m \u001b[0mSeries\u001b[0m\u001b[0;34m]\u001b[0m\u001b[0;34m]\u001b[0m\u001b[0;34m:\u001b[0m\u001b[0;34m\u001b[0m\u001b[0;34m\u001b[0m\u001b[0m\n\u001b[0;32m--> 892\u001b[0;31m         \u001b[0;32mif\u001b[0m \u001b[0mself\u001b[0m\u001b[0;34m.\u001b[0m\u001b[0mcolumns\u001b[0m\u001b[0;34m.\u001b[0m\u001b[0mis_unique\u001b[0m \u001b[0;32mand\u001b[0m \u001b[0mhasattr\u001b[0m\u001b[0;34m(\u001b[0m\u001b[0mself\u001b[0m\u001b[0;34m,\u001b[0m \u001b[0;34m\"_item_cache\"\u001b[0m\u001b[0;34m)\u001b[0m\u001b[0;34m:\u001b[0m\u001b[0;34m\u001b[0m\u001b[0;34m\u001b[0m\u001b[0m\n\u001b[0m\u001b[1;32m    893\u001b[0m             \u001b[0;32mfor\u001b[0m \u001b[0mk\u001b[0m \u001b[0;32min\u001b[0m \u001b[0mself\u001b[0m\u001b[0;34m.\u001b[0m\u001b[0mcolumns\u001b[0m\u001b[0;34m:\u001b[0m\u001b[0;34m\u001b[0m\u001b[0;34m\u001b[0m\u001b[0m\n\u001b[1;32m    894\u001b[0m                 \u001b[0;32myield\u001b[0m \u001b[0mk\u001b[0m\u001b[0;34m,\u001b[0m \u001b[0mself\u001b[0m\u001b[0;34m.\u001b[0m\u001b[0m_get_item_cache\u001b[0m\u001b[0;34m(\u001b[0m\u001b[0mk\u001b[0m\u001b[0;34m)\u001b[0m\u001b[0;34m\u001b[0m\u001b[0;34m\u001b[0m\u001b[0m\n",
      "\u001b[0;32m~/anaconda3/lib/python3.7/site-packages/pandas/core/generic.py\u001b[0m in \u001b[0;36m__getattr__\u001b[0;34m(self, name)\u001b[0m\n\u001b[1;32m   5268\u001b[0m             \u001b[0;32mor\u001b[0m \u001b[0mname\u001b[0m \u001b[0;32min\u001b[0m \u001b[0mself\u001b[0m\u001b[0;34m.\u001b[0m\u001b[0m_accessors\u001b[0m\u001b[0;34m\u001b[0m\u001b[0;34m\u001b[0m\u001b[0m\n\u001b[1;32m   5269\u001b[0m         ):\n\u001b[0;32m-> 5270\u001b[0;31m             \u001b[0;32mreturn\u001b[0m \u001b[0mobject\u001b[0m\u001b[0;34m.\u001b[0m\u001b[0m__getattribute__\u001b[0m\u001b[0;34m(\u001b[0m\u001b[0mself\u001b[0m\u001b[0;34m,\u001b[0m \u001b[0mname\u001b[0m\u001b[0;34m)\u001b[0m\u001b[0;34m\u001b[0m\u001b[0;34m\u001b[0m\u001b[0m\n\u001b[0m\u001b[1;32m   5271\u001b[0m         \u001b[0;32melse\u001b[0m\u001b[0;34m:\u001b[0m\u001b[0;34m\u001b[0m\u001b[0;34m\u001b[0m\u001b[0m\n\u001b[1;32m   5272\u001b[0m             \u001b[0;32mif\u001b[0m \u001b[0mself\u001b[0m\u001b[0;34m.\u001b[0m\u001b[0m_info_axis\u001b[0m\u001b[0;34m.\u001b[0m\u001b[0m_can_hold_identifiers_and_holds_name\u001b[0m\u001b[0;34m(\u001b[0m\u001b[0mname\u001b[0m\u001b[0;34m)\u001b[0m\u001b[0;34m:\u001b[0m\u001b[0;34m\u001b[0m\u001b[0;34m\u001b[0m\u001b[0m\n",
      "\u001b[0;32mpandas/_libs/properties.pyx\u001b[0m in \u001b[0;36mpandas._libs.properties.AxisProperty.__get__\u001b[0;34m()\u001b[0m\n",
      "\u001b[0;32m~/anaconda3/lib/python3.7/site-packages/pandas/core/generic.py\u001b[0m in \u001b[0;36m__getattr__\u001b[0;34m(self, name)\u001b[0m\n\u001b[1;32m   5268\u001b[0m             \u001b[0;32mor\u001b[0m \u001b[0mname\u001b[0m \u001b[0;32min\u001b[0m \u001b[0mself\u001b[0m\u001b[0;34m.\u001b[0m\u001b[0m_accessors\u001b[0m\u001b[0;34m\u001b[0m\u001b[0;34m\u001b[0m\u001b[0m\n\u001b[1;32m   5269\u001b[0m         ):\n\u001b[0;32m-> 5270\u001b[0;31m             \u001b[0;32mreturn\u001b[0m \u001b[0mobject\u001b[0m\u001b[0;34m.\u001b[0m\u001b[0m__getattribute__\u001b[0m\u001b[0;34m(\u001b[0m\u001b[0mself\u001b[0m\u001b[0;34m,\u001b[0m \u001b[0mname\u001b[0m\u001b[0;34m)\u001b[0m\u001b[0;34m\u001b[0m\u001b[0;34m\u001b[0m\u001b[0m\n\u001b[0m\u001b[1;32m   5271\u001b[0m         \u001b[0;32melse\u001b[0m\u001b[0;34m:\u001b[0m\u001b[0;34m\u001b[0m\u001b[0;34m\u001b[0m\u001b[0m\n\u001b[1;32m   5272\u001b[0m             \u001b[0;32mif\u001b[0m \u001b[0mself\u001b[0m\u001b[0;34m.\u001b[0m\u001b[0m_info_axis\u001b[0m\u001b[0;34m.\u001b[0m\u001b[0m_can_hold_identifiers_and_holds_name\u001b[0m\u001b[0;34m(\u001b[0m\u001b[0mname\u001b[0m\u001b[0;34m)\u001b[0m\u001b[0;34m:\u001b[0m\u001b[0;34m\u001b[0m\u001b[0;34m\u001b[0m\u001b[0m\n",
      "\u001b[0;31mAttributeError\u001b[0m: 'DataFrame' object has no attribute '_data'"
     ]
    }
   ],
   "source": [
    "with open(\"plz_to_long_lat.json\", \"r\") as f:\n",
    "    plz_to_long_lat = json.loads(f.read())\n",
    "long, lat = [], []\n",
    "for line in dfs.items():\n",
    "    long.append(plz_to_long_lat(line[\"PLZ\"])[0])\n",
    "    lat.append(plz_to_long_lat(line[\"PLZ\"])[1])\n",
    "dfs.insert(len(dfs.keys()), \"long\", long)\n",
    "dfs.insert(len(dfs.keys()), \"lat\", lat)"
   ]
  },
  {
   "cell_type": "code",
   "execution_count": 1128,
   "metadata": {},
   "outputs": [],
   "source": [
    "import ast"
   ]
  },
  {
   "cell_type": "code",
   "execution_count": 1129,
   "metadata": {},
   "outputs": [],
   "source": [
    "def unpack_market_values(dfs):\n",
    "    return [[float(val.replace(',','')) for val in ast.literal_eval(item)] for item in list(dfs[\"Verkehrswerte\"].array)]"
   ]
  },
  {
   "cell_type": "markdown",
   "metadata": {},
   "source": [
    "# Why missing Verkehrswerte?"
   ]
  },
  {
   "cell_type": "code",
   "execution_count": 1139,
   "metadata": {},
   "outputs": [
    {
     "name": "stdout",
     "output_type": "stream",
     "text": [
      "   Verkehrswert Text Verkehrswerte\n",
      "72       siehe oben!            []\n",
      "   Verkehrswert Text Verkehrswerte\n",
      "89       siehe oben             []\n",
      "    Verkehrswert Text Verkehrswerte\n",
      "113       siehe oben             []\n",
      "    Verkehrswert Text Verkehrswerte\n",
      "114       siehe oben             []\n",
      "    Verkehrswert Text Verkehrswerte\n",
      "117       siehe oben             []\n",
      "    Verkehrswert Text Verkehrswerte\n",
      "118       siehe oben!            []\n",
      "    Verkehrswert Text Verkehrswerte\n",
      "157      283.000.00 €            []\n",
      "    Verkehrswert Text Verkehrswerte\n",
      "158         720.000 €            []\n",
      "      Verkehrswert Text Verkehrswerte\n",
      "174  siehe Beschreibung            []\n",
      "    Verkehrswert Text Verkehrswerte\n",
      "176              1502            []\n",
      "       Verkehrswert Text Verkehrswerte\n",
      "192  Siehe Beschreibung             []\n",
      "    Verkehrswert Text Verkehrswerte\n",
      "267         274.000.-            []\n",
      "    Verkehrswert Text Verkehrswerte\n",
      "302       37.000 Euro            []\n",
      "    Verkehrswert Text Verkehrswerte\n",
      "314       471.000 EUR            []\n",
      "    Verkehrswert Text Verkehrswerte\n",
      "321      500.000 Euro            []\n",
      "    Verkehrswert Text Verkehrswerte\n",
      "326       41.500 Euro            []\n",
      "    Verkehrswert Text Verkehrswerte\n",
      "328       13.000 Euro            []\n",
      "    Verkehrswert Text Verkehrswerte\n",
      "338          276.000             []\n",
      "    Verkehrswert Text Verkehrswerte\n",
      "360         168.000 €            []\n",
      "                                                                                                      Verkehrswert Text  \\\n",
      "386  201.000 €, wobei auf die einzelnen Parzellen entfallen:\\nFlur 18 Nr. 23/5 : 190.890 €\\nFlur 18 Nr. 23/6 : 10.110 €   \n",
      "\n",
      "    Verkehrswerte  \n",
      "386            []  \n",
      "    Verkehrswert Text Verkehrswerte\n",
      "387            76.000            []\n",
      "    Verkehrswert Text Verkehrswerte\n",
      "430            61.000            []\n"
     ]
    }
   ],
   "source": [
    "idxs = np.argwhere(np.array([len(x) for x in unpack_market_values(dfs)]) == 0 )\n",
    "for i in idxs:\n",
    "    print(dfs[[\"Verkehrswert Text\", \"Verkehrswerte\"]].iloc[i])"
   ]
  },
  {
   "cell_type": "code",
   "execution_count": 1184,
   "metadata": {},
   "outputs": [
    {
     "data": {
      "text/plain": [
       "Index(['Aktenzeichen', 'Amtsgericht', 'Links', 'PLZ', 'Address', 'Amtsgericht',\n",
       "       'Objekt/Lage', 'Verkehrswerte', 'Verkehrswert Text', 'Termin'],\n",
       "      dtype='object')"
      ]
     },
     "execution_count": 1184,
     "metadata": {},
     "output_type": "execute_result"
    }
   ],
   "source": [
    "dfs.columns"
   ]
  },
  {
   "cell_type": "code",
   "execution_count": 1179,
   "metadata": {},
   "outputs": [],
   "source": [
    "from datetime import date\n",
    "from scraping import *\n",
    "today = \"\"\n",
    "dfs = None\n",
    "def update_scrape():\n",
    "    global today\n",
    "    global dfs\n",
    "    \n",
    "    if str(date.today()) != today:\n",
    "        dfs = scrape_all(verbose =  1)\n",
    "        today = str(date.today())"
   ]
  },
  {
   "cell_type": "code",
   "execution_count": 1180,
   "metadata": {},
   "outputs": [
    {
     "name": "stdout",
     "output_type": "stream",
     "text": [
      "2021-05-21\n"
     ]
    }
   ],
   "source": [
    "update_scrape()\n",
    "print(today)"
   ]
  },
  {
   "cell_type": "code",
   "execution_count": 1136,
   "metadata": {},
   "outputs": [
    {
     "name": "stdout",
     "output_type": "stream",
     "text": [
      "Verkehrswert Text                                                      siehe oben \n",
      "Verkehrswerte                                                                   []\n",
      "Objekt/Lage          Einfamilienhaus mit 2 Garagen: Am Vielitzberg  38, 95100 Selb\n",
      "Name: 113, dtype: object\n"
     ]
    }
   ],
   "source": [
    "print(dfs[[\"Verkehrswert Text\", \"Verkehrswerte\", \"Objekt/Lage\"]].iloc[113])"
   ]
  },
  {
   "cell_type": "code",
   "execution_count": 1123,
   "metadata": {},
   "outputs": [
    {
     "data": {
      "text/plain": [
       "['1.1173,00']"
      ]
     },
     "execution_count": 1123,
     "metadata": {},
     "output_type": "execute_result"
    }
   ],
   "source": [
    "re.findall(\"[0-9]*\\.*[0-9]*\\.*[0-9]*\\.*[0-9]*\\.*[0-9]+,[0-9\\-]+\",\"1.1173,00\")"
   ]
  },
  {
   "cell_type": "code",
   "execution_count": 277,
   "metadata": {
    "scrolled": false
   },
   "outputs": [
    {
     "data": {
      "text/html": [
       "<!DOCTYPE html PUBLIC \"-//W3C//DTD XHTML 1.0 Transitional//EN\" \"http://www.w3.org/TR/xhtml1/DTD/xhtml1-transitional.dtd\">\n",
       "<html lang=\"de\" xml:lang=\"de\" xmlns=\"http://www.w3.org/1999/xhtml\">\n",
       "<head>\n",
       "<title>Justizportal - Verfahren</title>\n",
       "<meta content=\"text/html; charset=utf-8\" http-equiv=\"Content-Type\"/>\n",
       "<meta content=\"Justizportal des Bundes und der Lnder\" name=\"DC.Description\"/>\n",
       "<meta content=\"Referat ffentlichkeitsarbeit\" name=\"DC.Author\"/>\n",
       "<meta content=\"Justizportal des Bundes und der Lnder\" name=\"DC.Page-topic\"/>\n",
       "<meta content=\"noindex,nofollow,nosnippet,noarchive,noodp\" name=\"Robots\"/>\n",
       "<link href=\"mailto:redaktion@justiz.de\" rel=\"author\" title=\"Mail\"/>\n",
       "<link href=\"https://justiz.de/Uebersicht.php\" rel=\"contents\" title=\"Inhaltsverzeichnis\"/>\n",
       "<link href=\"https://justiz.de/index.php\" rel=\"start\" title=\"Startseite\"/>\n",
       "<link href=\"https://justiz.de/Impressum.php\" rel=\"copyright\" title=\"Impressum\"/>\n",
       "<link href=\"https://justiz.de/index.php#suchzeile\" rel=\"search\" title=\"Suchen\"/>\n",
       "<link href=\"images/favicon.ico\" rel=\"icon\" type=\"image/x-icon\"/>\n",
       "<link href=\"images/basis.css\" rel=\"stylesheet\" title=\"Basis-Stylesheet\" type=\"text/css\"/>\n",
       "</head>\n",
       "<script>\n",
       "function blaettern(nseite,nl,nr,norder_by,ndesc)\n",
       "{\n",
       "\n",
       "var seite='1';\n",
       "var l='1';\n",
       "var r='8';\n",
       "var all='';\n",
       "var order_by='-1';\n",
       "var desc='-1';\n",
       "\n",
       "\n",
       "//alert(seite+'-'+l+'-'+r+'-'+order_by+'-'+desc);\n",
       "\n",
       "//dropdown -> alle\n",
       "if(nseite=='all'){\n",
       "\tvar URL='index.php?button=Suchen&all=1';\n",
       "\t//return location.replace(URL);\n",
       " \tdocument.form_sucheZvg.action=URL;\n",
       "\tdocument.form_sucheZvg.submit();\n",
       "return;\n",
       "}\n",
       "//dorpdown menue\n",
       "if(nl==-1 && nr==-1 && norder_by==-1 && ndesc==-1){\n",
       "        x=nseite.split(\"-\");\n",
       " \tvar URL='index.php?button=Suchen&seite='+x[0]+'&l='+x[1]+'&r='+x[2]+'&order_by='+order_by+'&desc='+desc;\n",
       "//\treturn location.replace(URL);\n",
       " \tdocument.form_sucheZvg.action=URL;\n",
       "        document.form_sucheZvg.submit();\n",
       "return;\n",
       "}\n",
       "//sortieren, nicht blaettern\n",
       "if(norder_by!=-1){\n",
       " \tvar URL='index.php?button=Suchen&seite='+seite+'&l='+l+'&r='+r+'&all='+all+'&order_by='+norder_by+'&desc='+ndesc+'';\n",
       "//return location.replace(URL);\n",
       " \tdocument.form_sucheZvg.action=URL;\n",
       "        document.form_sucheZvg.submit();\n",
       "return;\n",
       "\n",
       "}\n",
       "var URL='index.php?button=Suchen&seite='+nseite+'&l='+nl+'&r='+nr+'&all='+all+'&order_by='+norder_by+'&desc='+ndesc;\n",
       "//return location.replace(URL);\n",
       " document.form_sucheZvg.action=URL;\n",
       "        document.form_sucheZvg.submit();\n",
       "\n",
       "\n",
       "}\n",
       "</script>\n",
       "<body>\n",
       "<!-- Kopfbereich -->\n",
       "<a name=\"top\"></a>\n",
       "<a href=\"https://justiz.de/\" title=\"Link zur Startseite\"><img alt=\"Justitia auf Deutschlandkarte\" height=\"132\" id=\"logo\" src=\"images/justitia.gif\" width=\"160\"/></a>\n",
       "<h1 id=\"kopf\">Zwangsversteigerungstermine</h1>\n",
       "<div id=\"micronavi\"><!-- Micronavi -->\n",
       "        Sie sind hier:\n",
       "            <ul>\n",
       "<li><a href=\"index.php?button=Termine suchen\"><span class=\"pfeil\">&gt;</span>Termine suchen</a></li> </ul>\n",
       "</div><!-- ende Micronavi -->\n",
       "<!-- Ende Kopfbereich -->\n",
       "<div id=\"container\"><!-- Container -->\n",
       "<div class=\"noprint\" id=\"navi\"> <!-- Navigation linke Seite -->\n",
       "<ul class=\"hinterlegt\">\n",
       "<li><a href=\"index.php?button=Termine suchen\">Termine suchen</a></li>\n",
       "<li><a href=\"index.php?button=Uebersicht\">Übersicht</a></li>\n",
       "<li><a href=\"index.php?button=Hinweise fuer Bieter\">Hinweise für Bieter</a></li>\n",
       "<li><a href=\"index.php?button=handbuch&amp;sess_clean=1\" target=\"_blanc\">Bieter Handbuch</a></li>\n",
       "</ul>\n",
       "<ul class=\"binnennavi\">\n",
       "<li><a href=\"index.php?button=Startseite\" title=\"Startseite\">Startseite</a></li>\n",
       "<li><a href=\"index.php?button=Impressum\">Impressum</a></li>\n",
       "<li><a href=\"https://justiz.de/rechtliche_hinweise/index.php\" target=\"_blank\">Rechtliche Hinweise</a></li>\n",
       "<li><a href=\"index.php?button=Kontakt\">Kontakt</a></li>\n",
       "</ul>\n",
       "<div id=\"zusatznavi\">\n",
       "</div>\n",
       "<form action=\"https://justiz.de/suchergebnis/index.php\" method=\"get\"><label class=\"small\" for=\"query\">Suche</label><br/>\n",
       "<input id=\"suchzeile\" name=\"q\" type=\"text\"/><input alt=\"\" src=\"images/lupe.gif\" type=\"image\"/>\n",
       "</form>\n",
       "</div> <!-- Ende Navigation -->\n",
       "<div id=\"inhalt\"><!-- Inhalt -->\n",
       "<p>\n",
       "<nobr><h3>Alle Termine, Insgesamt 62\n",
       "                  \n",
       "                        \n",
       "                        \n",
       "<button onclick=\"document.form_sucheZvg.action='index.php?button=Termine suchen';document.form_sucheZvg.submit();\">Suche ndern</button></h3></nobr>\n",
       "</p><form method=\"post\" name=\"form_sucheZvg\">\n",
       "<input name=\"ger_name\" type=\"hidden\" value=\"-- Alle Amtsgerichte --\"/>\n",
       "<input name=\"order_by\" type=\"hidden\" value=\"2\"/>\n",
       "<input name=\"land_abk\" type=\"hidden\" value=\"bw\"/>\n",
       "<input name=\"ger_id\" type=\"hidden\" value=\"0\"/>\n",
       "<input name=\"az1\" type=\"hidden\" value=\"\"/>\n",
       "<input name=\"az2\" type=\"hidden\" value=\"\"/>\n",
       "<input name=\"az3\" type=\"hidden\" value=\"\"/>\n",
       "<input name=\"az4\" type=\"hidden\" value=\"\"/>\n",
       "<input name=\"art\" type=\"hidden\" value=\"\"/>\n",
       "<input name=\"obj\" type=\"hidden\" value=\"\"/>\n",
       "<input name=\"str\" type=\"hidden\" value=\"\"/>\n",
       "<input name=\"hnr\" type=\"hidden\" value=\"\"/>\n",
       "<input name=\"plz\" type=\"hidden\" value=\"\"/>\n",
       "<input name=\"ort\" type=\"hidden\" value=\"\"/>\n",
       "<input name=\"ortsteil\" type=\"hidden\" value=\"\"/>\n",
       "<input name=\"vtermin\" type=\"hidden\" value=\"\"/>\n",
       "<input name=\"btermin\" type=\"hidden\" value=\"\"/>\n",
       "<!--Seiten zum Blaettern-->\n",
       "<table border=\"1\"><tr><td><select onchange=\"blaettern(this.options[this.selectedIndex].value,'-1','-1','-1','-1')\" size=\"1\"><option selected=\"\" value=\"1-1-11\">1-7</option><option value=\"all\">alle</option></select></td><td><button class=\"seiten_nr\" onclick=\"blaettern('1','1','8','-1','-1')\" onmouseout=\"this.className='seiten_nr'\" onmouseover=\"this.className='seiten_nr_hover'\">[1]</button><button class=\"seiten_nr\" onclick=\"blaettern('2','1','8','-1','-1')\" onmouseout=\"this.className='seiten_nr'\" onmouseover=\"this.className='seiten_nr_hover'\"> 2 </button><button class=\"seiten_nr\" onclick=\"blaettern('3','1','8','-1','-1')\" onmouseout=\"this.className='seiten_nr'\" onmouseover=\"this.className='seiten_nr_hover'\"> 3 </button><button class=\"seiten_nr\" onclick=\"blaettern('4','1','8','-1','-1')\" onmouseout=\"this.className='seiten_nr'\" onmouseover=\"this.className='seiten_nr_hover'\"> 4 </button><button class=\"seiten_nr\" onclick=\"blaettern('5','1','8','-1','-1')\" onmouseout=\"this.className='seiten_nr'\" onmouseover=\"this.className='seiten_nr_hover'\"> 5 </button><button class=\"seiten_nr\" onclick=\"blaettern('6','1','8','-1','-1')\" onmouseout=\"this.className='seiten_nr'\" onmouseover=\"this.className='seiten_nr_hover'\"> 6 </button><button class=\"seiten_nr\" onclick=\"blaettern('7','1','8','-1','-1')\" onmouseout=\"this.className='seiten_nr'\" onmouseover=\"this.className='seiten_nr_hover'\"> 7 </button></td></tr></table>\n",
       "<!--Seiten zum Blaettern Ende--><table border=\"0\"> <!--Aktenzeichen--->\n",
       "<tr><td align=\"left\" valign=\"top\"><nobr>Aktenzeichen  </nobr></td><td align=\"left\" valign=\"center\"><b><font size=\"2px\">\n",
       "<nobr>0001 K 0055/2018</nobr></font></b> </td>\n",
       "<td align=\"right\" valign=\"top\"><nobr>(letzte Aktualisierung 18-05-2021 12:19)</nobr></td></tr>\n",
       "<!--Amtsgericht--->\n",
       "<tr><td align=\"left\" valign=\"top\">Amtsgericht</td><td align=\"left\" colspan=\"2\" valign=\"center\"><b>Mannheim in Baden-Wuerttemberg</b></td></tr>\n",
       "<tr><td align=\"left\" valign=\"top\">Termin</td><td align=\"left\" colspan=\"2\" valign=\"center\">\n",
       "<font color=\"#C00000\"><b>Der Termin Donnerstag, 20. Mai 2021, 08:30 Uhr wurde aufgehoben.</b></font></td></tr><tr><td colspan=\"3\"><hr/></td></tr> <!--Aktenzeichen--->\n",
       "<tr><td align=\"left\" valign=\"top\"><nobr>Aktenzeichen  </nobr></td><td align=\"left\" valign=\"center\"><b><font size=\"2px\">\n",
       "<nobr>0001 K 0133/2019</nobr></font></b> </td>\n",
       "<td align=\"right\" valign=\"top\"><nobr>(letzte Aktualisierung 18-05-2021 07:42)</nobr></td></tr>\n",
       "<!--Amtsgericht--->\n",
       "<tr><td align=\"left\" valign=\"top\">Amtsgericht</td><td align=\"left\" colspan=\"2\" valign=\"center\"><b>Mannheim in Baden-Wuerttemberg</b></td></tr>\n",
       "<tr><td align=\"left\" valign=\"top\">Termin</td><td align=\"left\" colspan=\"2\" valign=\"center\">\n",
       "<font color=\"#C00000\"><b>Der Termin Donnerstag, 20. Mai 2021, 11:00 Uhr wurde aufgehoben.</b></font></td></tr><tr><td colspan=\"3\"><hr/></td></tr> <!--Aktenzeichen--->\n",
       "<tr><td align=\"left\" valign=\"top\"><nobr>Aktenzeichen  </nobr></td><td align=\"left\" valign=\"center\"><b>\n",
       "<a href=\"index.php?button=showZvg&amp;zvg_id=7361&amp;land_abk=bw\" target=\"blank_\">\n",
       "<nobr>K 0003/2016 (Detailansicht)</nobr></a></b> </td>\n",
       "<td align=\"right\" valign=\"top\"><nobr>(letzte Aktualisierung 30-03-2021 12:18)</nobr></td></tr>\n",
       "<!--Amtsgericht--->\n",
       "<tr><td align=\"left\" valign=\"top\">Amtsgericht</td><td align=\"left\" colspan=\"2\" valign=\"center\"><b>Tettnang in Baden-Wuerttemberg</b></td></tr>\n",
       "<tr><td align=\"left\" valign=\"top\">Objekt/Lage</td><td align=\"left\" colspan=\"2\" valign=\"center\"><b>Eigentumswohnung (3 bis 4 Zimmer), Garage<!--Lage--->:</b> Eschstraße 14, 88074 Meckenbeuren</td></tr>\n",
       "<tr><td align=\"left\" valign=\"top\"><nobr>Verkehrswert in  </nobr></td><td align=\"left\" colspan=\"2\" valign=\"center\"><b></b><p>4-Zimmerwohnung mit Flur, Wohnzimmer, Küche, Bad mit WC, drei weiteren Zimmern, ca. 93 m², Baujahr ca. 1964;<br/> <br/>Verkehrswert:<br/>63.000,00 €</p>\n",
       "<p> </p>\n",
       "<p>Lfd. Nr. 2<br/>Objektbeschreibung/Lage (lt Angabe d. Sachverständigen):<br/>Garage;<br/> <br/>Verkehrswert:<br/>5.000,00 €</p>\n",
       "<p> </p></td></tr>\n",
       "<tr><td align=\"left\" valign=\"top\">Termin</td><td align=\"left\" colspan=\"2\" valign=\"center\">Donnerstag, 20. Mai 2021, 14:00 Uhr</td></tr><tr><td colspan=\"3\"><hr/></td></tr> <!--Aktenzeichen--->\n",
       "<tr><td align=\"left\" valign=\"top\"><nobr>Aktenzeichen  </nobr></td><td align=\"left\" valign=\"center\"><b>\n",
       "<a href=\"index.php?button=showZvg&amp;zvg_id=7352&amp;land_abk=bw\" target=\"blank_\">\n",
       "<nobr>0001 K 0020/2019 (Detailansicht)</nobr></a></b> </td>\n",
       "<td align=\"right\" valign=\"top\"><nobr>(letzte Aktualisierung 19-03-2021 08:44)</nobr></td></tr>\n",
       "<!--Amtsgericht--->\n",
       "<tr><td align=\"left\" valign=\"top\">Amtsgericht</td><td align=\"left\" colspan=\"2\" valign=\"center\"><b>Ravensburg in Baden-Wuerttemberg</b></td></tr>\n",
       "<tr><td align=\"left\" valign=\"top\">Objekt/Lage</td><td align=\"left\" colspan=\"2\" valign=\"center\"><b>unbebautes Grundstück<!--Lage--->:</b> Unterzeil , 88299  Leutkirch , Reichenhofen </td></tr>\n",
       "<tr><td align=\"left\" valign=\"top\"><nobr>Verkehrswert in  </nobr></td><td align=\"left\" colspan=\"2\" valign=\"center\"><b></b><p>195.000,00</p></td></tr>\n",
       "<tr><td align=\"left\" valign=\"top\">Termin</td><td align=\"left\" colspan=\"2\" valign=\"center\">Dienstag, 25. Mai 2021, 09:00 Uhr</td></tr><tr><td colspan=\"3\"><hr/></td></tr> <!--Aktenzeichen--->\n",
       "<tr><td align=\"left\" valign=\"top\"><nobr>Aktenzeichen  </nobr></td><td align=\"left\" valign=\"center\"><b>\n",
       "<a href=\"index.php?button=showZvg&amp;zvg_id=7365&amp;land_abk=bw\" target=\"blank_\">\n",
       "<nobr>0002 K 0019/2018 (Detailansicht)</nobr></a></b> </td>\n",
       "<td align=\"right\" valign=\"top\"><nobr>(letzte Aktualisierung 14-04-2021 14:10)</nobr></td></tr>\n",
       "<!--Amtsgericht--->\n",
       "<tr><td align=\"left\" valign=\"top\">Amtsgericht</td><td align=\"left\" colspan=\"2\" valign=\"center\"><b>Biberach in Baden-Wuerttemberg</b></td></tr>\n",
       "<tr><td align=\"left\" valign=\"top\">Objekt/Lage</td><td align=\"left\" colspan=\"2\" valign=\"center\"><b>Wohnung und Tiefgaragenstellplatz<!--Lage--->:</b> Beckenkreuz  11, 88471 Laupheim, Untersulmetingen</td></tr>\n",
       "<tr><td align=\"left\" valign=\"top\"><nobr>Verkehrswert in  </nobr></td><td align=\"left\" colspan=\"2\" valign=\"center\"><b></b><p>lfd. Nr. 1 131.000,00</p>\n",
       "<p>lfd. Nr. 2 12.000,00</p></td></tr>\n",
       "<tr><td align=\"left\" valign=\"top\">Termin</td><td align=\"left\" colspan=\"2\" valign=\"center\">Dienstag, 08. Juni 2021, 09:00 Uhr</td></tr><tr><td colspan=\"3\"><hr/></td></tr> <!--Aktenzeichen--->\n",
       "<tr><td align=\"left\" valign=\"top\"><nobr>Aktenzeichen  </nobr></td><td align=\"left\" valign=\"center\"><b>\n",
       "<a href=\"index.php?button=showZvg&amp;zvg_id=7405&amp;land_abk=bw\" target=\"blank_\">\n",
       "<nobr>0003 K 0095/2020 (Detailansicht)</nobr></a></b> </td>\n",
       "<td align=\"right\" valign=\"top\"><nobr>(letzte Aktualisierung 10-05-2021 08:49)</nobr></td></tr>\n",
       "<!--Amtsgericht--->\n",
       "<tr><td align=\"left\" valign=\"top\">Amtsgericht</td><td align=\"left\" colspan=\"2\" valign=\"center\"><b>Mannheim in Baden-Wuerttemberg</b></td></tr>\n",
       "<tr><td align=\"left\" valign=\"top\">Objekt/Lage</td><td align=\"left\" colspan=\"2\" valign=\"center\"><b>Eigentumswohnung (3 bis 4 Zimmer)<!--Lage--->:</b> Hubenstr. 25, 68305 Mannheim, Waldhof</td></tr>\n",
       "<tr><td align=\"left\" valign=\"top\"><nobr>Verkehrswert in  </nobr></td><td align=\"left\" colspan=\"2\" valign=\"center\"><b></b><p> </p>\n",
       "<p>130.000,00</p>\n",
       "<p> </p></td></tr>\n",
       "<tr><td align=\"left\" valign=\"top\">Termin</td><td align=\"left\" colspan=\"2\" valign=\"center\">Donnerstag, 10. Juni 2021, 08:30 Uhr</td></tr><tr><td colspan=\"3\"><hr/></td></tr> <!--Aktenzeichen--->\n",
       "<tr><td align=\"left\" valign=\"top\"><nobr>Aktenzeichen  </nobr></td><td align=\"left\" valign=\"center\"><b>\n",
       "<a href=\"index.php?button=showZvg&amp;zvg_id=7341&amp;land_abk=bw\" target=\"blank_\">\n",
       "<nobr>0001 K 0001/2020 (Detailansicht)</nobr></a></b> </td>\n",
       "<td align=\"right\" valign=\"top\"><nobr>(letzte Aktualisierung 26-04-2021 07:21)</nobr></td></tr>\n",
       "<!--Amtsgericht--->\n",
       "<tr><td align=\"left\" valign=\"top\">Amtsgericht</td><td align=\"left\" colspan=\"2\" valign=\"center\"><b>Offenburg in Baden-Wuerttemberg</b></td></tr>\n",
       "<tr><td align=\"left\" valign=\"top\">Objekt/Lage</td><td align=\"left\" colspan=\"2\" valign=\"center\"><b>Einfamilienhaus, Garage<!--Lage--->:</b> Mozartstraße 16, 77746 Schutterwald</td></tr>\n",
       "<tr><td align=\"left\" valign=\"top\"><nobr>Verkehrswert in  </nobr></td><td align=\"left\" colspan=\"2\" valign=\"center\"><b></b><p>440.000,00</p></td></tr>\n",
       "<tr><td align=\"left\" valign=\"top\">Termin</td><td align=\"left\" colspan=\"2\" valign=\"center\">Donnerstag, 10. Juni 2021, 10:00 Uhr</td></tr><tr><td></td><td align=\"left\" colspan=\"2\"><a href=\"?button=showAnhang&amp;land_abk=bw&amp;file_id=5115&amp;zvg_id=7341 \" target=\"_blank\"></a>Amtliche Bekanntmachung<img alt=\"PDF-Dokument, ffnet neues Browserfenster\" class=\"icon\" height=\"18\" src=\"images/pdf.gif\" width=\"18\"/>\n",
       "<span class=\"kleinereSchrift\">48.83 kB</span>\n",
       "</td></tr><tr><td colspan=\"3\"><hr/></td></tr> <!--Aktenzeichen--->\n",
       "<tr><td align=\"left\" valign=\"top\"><nobr>Aktenzeichen  </nobr></td><td align=\"left\" valign=\"center\"><b><font size=\"2px\">\n",
       "<nobr>0003 K 0029/2020</nobr></font></b> </td>\n",
       "<td align=\"right\" valign=\"top\"><nobr>(letzte Aktualisierung 19-05-2021 11:40)</nobr></td></tr>\n",
       "<!--Amtsgericht--->\n",
       "<tr><td align=\"left\" valign=\"top\">Amtsgericht</td><td align=\"left\" colspan=\"2\" valign=\"center\"><b>Mannheim in Baden-Wuerttemberg</b></td></tr>\n",
       "<tr><td align=\"left\" valign=\"top\">Termin</td><td align=\"left\" colspan=\"2\" valign=\"center\">\n",
       "<font color=\"#C00000\"><b>Der Termin Donnerstag, 10. Juni 2021, 10:30 Uhr wurde aufgehoben.</b></font></td></tr><tr><td colspan=\"3\"><hr/></td></tr> <!--Aktenzeichen--->\n",
       "<tr><td align=\"left\" valign=\"top\"><nobr>Aktenzeichen  </nobr></td><td align=\"left\" valign=\"center\"><b>\n",
       "<a href=\"index.php?button=showZvg&amp;zvg_id=7404&amp;land_abk=bw\" target=\"blank_\">\n",
       "<nobr>0001 K 0071/2020 (Detailansicht)</nobr></a></b> </td>\n",
       "<td align=\"right\" valign=\"top\"><nobr>(letzte Aktualisierung 10-05-2021 08:46)</nobr></td></tr>\n",
       "<!--Amtsgericht--->\n",
       "<tr><td align=\"left\" valign=\"top\">Amtsgericht</td><td align=\"left\" colspan=\"2\" valign=\"center\"><b>Mannheim in Baden-Wuerttemberg</b></td></tr>\n",
       "<tr><td align=\"left\" valign=\"top\">Objekt/Lage</td><td align=\"left\" colspan=\"2\" valign=\"center\"><b>Lager<!--Lage--->:</b> Berliner Str. 7, 69502 Hemsbach</td></tr>\n",
       "<tr><td align=\"left\" valign=\"top\"><nobr>Verkehrswert in  </nobr></td><td align=\"left\" colspan=\"2\" valign=\"center\"><b></b><p> </p>\n",
       "<p>110.000,00</p>\n",
       "<p> </p></td></tr>\n",
       "<tr><td align=\"left\" valign=\"top\">Termin</td><td align=\"left\" colspan=\"2\" valign=\"center\">Donnerstag, 10. Juni 2021, 12:30 Uhr</td></tr><tr><td colspan=\"3\"><hr/></td></tr> <!--Aktenzeichen--->\n",
       "<tr><td align=\"left\" valign=\"top\"><nobr>Aktenzeichen  </nobr></td><td align=\"left\" valign=\"center\"><b>\n",
       "<a href=\"index.php?button=showZvg&amp;zvg_id=7403&amp;land_abk=bw\" target=\"blank_\">\n",
       "<nobr>0001 K 0097/2020 (Detailansicht)</nobr></a></b> </td>\n",
       "<td align=\"right\" valign=\"top\"><nobr>(letzte Aktualisierung 10-05-2021 08:43)</nobr></td></tr>\n",
       "<!--Amtsgericht--->\n",
       "<tr><td align=\"left\" valign=\"top\">Amtsgericht</td><td align=\"left\" colspan=\"2\" valign=\"center\"><b>Mannheim in Baden-Wuerttemberg</b></td></tr>\n",
       "<tr><td align=\"left\" valign=\"top\">Objekt/Lage</td><td align=\"left\" colspan=\"2\" valign=\"center\"><b>Eigentumswohnung (1 bis 2 Zimmer)<!--Lage--->:</b> Jakob-Faulhaber-Str. 2, Schienenstr. 11, 68305 Mannheim, Waldhof</td></tr>\n",
       "<tr><td align=\"left\" valign=\"top\"><nobr>Verkehrswert in  </nobr></td><td align=\"left\" colspan=\"2\" valign=\"center\"><b></b><p> </p>\n",
       "<p>20.000,00</p>\n",
       "<p> </p></td></tr>\n",
       "<tr><td align=\"left\" valign=\"top\">Termin</td><td align=\"left\" colspan=\"2\" valign=\"center\">Donnerstag, 10. Juni 2021, 14:30 Uhr</td></tr><tr><td colspan=\"3\"><hr/></td></tr></table>\n",
       "<!--Zwangsversteigerungen Ende-->\n",
       "<nobr><h3>Alle Termine, Insgesamt 62\n",
       "                  \n",
       "                        \n",
       "                        \n",
       "<button onclick=\"document.form_sucheZvg.action='index.php?button=Termine suchen';document.form_sucheZvg.submit();\">Suche ndern</button></h3></nobr>\n",
       "<!--Seiten zum Blaettern-->\n",
       "<table border=\"1\"><tr><td><select onchange=\"blaettern(this.options[this.selectedIndex].value,'-1','-1','-1','-1')\" size=\"1\"><option selected=\"\" value=\"1-1-11\">1-7</option><option value=\"all\">alle</option></select></td><td><button class=\"seiten_nr\" onclick=\"blaettern('1','1','8','-1','-1')\" onmouseout=\"this.className='seiten_nr'\" onmouseover=\"this.className='seiten_nr_hover'\">[1]</button><button class=\"seiten_nr\" onclick=\"blaettern('2','1','8','-1','-1')\" onmouseout=\"this.className='seiten_nr'\" onmouseover=\"this.className='seiten_nr_hover'\"> 2 </button><button class=\"seiten_nr\" onclick=\"blaettern('3','1','8','-1','-1')\" onmouseout=\"this.className='seiten_nr'\" onmouseover=\"this.className='seiten_nr_hover'\"> 3 </button><button class=\"seiten_nr\" onclick=\"blaettern('4','1','8','-1','-1')\" onmouseout=\"this.className='seiten_nr'\" onmouseover=\"this.className='seiten_nr_hover'\"> 4 </button><button class=\"seiten_nr\" onclick=\"blaettern('5','1','8','-1','-1')\" onmouseout=\"this.className='seiten_nr'\" onmouseover=\"this.className='seiten_nr_hover'\"> 5 </button><button class=\"seiten_nr\" onclick=\"blaettern('6','1','8','-1','-1')\" onmouseout=\"this.className='seiten_nr'\" onmouseover=\"this.className='seiten_nr_hover'\"> 6 </button><button class=\"seiten_nr\" onclick=\"blaettern('7','1','8','-1','-1')\" onmouseout=\"this.className='seiten_nr'\" onmouseover=\"this.className='seiten_nr_hover'\"> 7 </button></td></tr></table>\n",
       "<!--Seiten zum Blaettern Ende--></form>\n",
       "</div><!-- ende Inhalt -->\n",
       "<div id=\"addinfo\"><!-- ende Addinfo -->\n",
       "<h3>Weitere Infos</h3>\n",
       "<ul>\n",
       "<li class=\"publication\"><a href=\"https://justiz.de\" target=\"_blank\">Justizportal des Bundes und der Länder</a></li>\n",
       "<li class=\"publication\"><a href=\"http://www.handelsregister.de\" target=\"_blank\">Gemeinsames Registerportal der Länder</a></li>\n",
       "<!-- li class=\"publication\"><a target=_blank  href=\"Zustaendigkeitsliste.pdf\">Liste der zust&auml;ndigen Registrierungsbeh&ouml;rden</a></li -->\n",
       "<!-- li class=\"publication\"><a  href=\"index.php?button=Antragsformulare&sess_clean=1\">Antragsformulare</a></li-->\n",
       "</ul>\n",
       "</div><!-- ende Addinfo -->\n",
       "<div class=\"screen\" id=\"footer\"><!-- Footer -->\n",
       "<p><nobr><a href=\"javascript:window.print()\">Seite drucken</a> . <a href=\"#inhalt\">zum Anfang</a></nobr></p>\n",
       "</div><!-- Ende Footer -->\n",
       "</div><!-- ende Container -->\n",
       "</body>\n",
       "</html>\n"
      ],
      "text/plain": [
       "<IPython.core.display.HTML object>"
      ]
     },
     "execution_count": 277,
     "metadata": {},
     "output_type": "execute_result"
    }
   ],
   "source": [
    "HTML(str(soup))"
   ]
  },
  {
   "cell_type": "code",
   "execution_count": 149,
   "metadata": {},
   "outputs": [],
   "source": [
    "import re"
   ]
  },
  {
   "cell_type": "code",
   "execution_count": 148,
   "metadata": {},
   "outputs": [],
   "source": [
    "pages_buttons = soup.find_all(\"button\", {\"class\": \"seiten_nr\"})\n",
    "n_pages = len(pages_buttons)//2"
   ]
  },
  {
   "cell_type": "code",
   "execution_count": 153,
   "metadata": {},
   "outputs": [],
   "source": [
    "auctions = [td.parent for td in soup.findAll(\"td\", string=\"Objekt/Lage\")]"
   ]
  },
  {
   "cell_type": "code",
   "execution_count": 154,
   "metadata": {},
   "outputs": [
    {
     "data": {
      "text/plain": [
       "[<tr><td align=\"left\" valign=\"top\">Objekt/Lage</td><td align=\"left\" colspan=\"2\" valign=\"center\"><b>Eigentumswohnung (3 bis 4 Zimmer), Garage<!--Lage--->:</b> Eschstraße 14, 88074 Meckenbeuren</td></tr>,\n",
       " <tr><td align=\"left\" valign=\"top\">Objekt/Lage</td><td align=\"left\" colspan=\"2\" valign=\"center\"><b>unbebautes Grundstück<!--Lage--->:</b> Unterzeil , 88299  Leutkirch , Reichenhofen </td></tr>,\n",
       " <tr><td align=\"left\" valign=\"top\">Objekt/Lage</td><td align=\"left\" colspan=\"2\" valign=\"center\"><b>Wohnung und Tiefgaragenstellplatz<!--Lage--->:</b> Beckenkreuz  11, 88471 Laupheim, Untersulmetingen</td></tr>,\n",
       " <tr><td align=\"left\" valign=\"top\">Objekt/Lage</td><td align=\"left\" colspan=\"2\" valign=\"center\"><b>Eigentumswohnung (3 bis 4 Zimmer)<!--Lage--->:</b> Hubenstr. 25, 68305 Mannheim, Waldhof</td></tr>,\n",
       " <tr><td align=\"left\" valign=\"top\">Objekt/Lage</td><td align=\"left\" colspan=\"2\" valign=\"center\"><b>Einfamilienhaus, Garage<!--Lage--->:</b> Mozartstraße 16, 77746 Schutterwald</td></tr>,\n",
       " <tr><td align=\"left\" valign=\"top\">Objekt/Lage</td><td align=\"left\" colspan=\"2\" valign=\"center\"><b>Lager<!--Lage--->:</b> Berliner Str. 7, 69502 Hemsbach</td></tr>,\n",
       " <tr><td align=\"left\" valign=\"top\">Objekt/Lage</td><td align=\"left\" colspan=\"2\" valign=\"center\"><b>Eigentumswohnung (1 bis 2 Zimmer)<!--Lage--->:</b> Jakob-Faulhaber-Str. 2, Schienenstr. 11, 68305 Mannheim, Waldhof</td></tr>]"
      ]
     },
     "execution_count": 154,
     "metadata": {},
     "output_type": "execute_result"
    }
   ],
   "source": [
    "auctions"
   ]
  },
  {
   "cell_type": "code",
   "execution_count": 233,
   "metadata": {},
   "outputs": [],
   "source": [
    "plz = []\n",
    "address = []\n",
    "for a in auctions:\n",
    "    try:\n",
    "        match = re.search(\"[0-9]{5}\", str(a))\n",
    "        plz.append(match.group())\n",
    "        match = re.search(\"</b> (.*[0-9]{5}.*)</td>\", str(a))\n",
    "        address.append(match.group(1))\n",
    "    except Exception as e:\n",
    "        print(e)"
   ]
  },
  {
   "cell_type": "code",
   "execution_count": 234,
   "metadata": {},
   "outputs": [
    {
     "data": {
      "text/plain": [
       "['Eschstraße 14, 88074 Meckenbeuren',\n",
       " 'Unterzeil , 88299  Leutkirch , Reichenhofen ',\n",
       " 'Beckenkreuz  11, 88471 Laupheim, Untersulmetingen',\n",
       " 'Hubenstr. 25, 68305 Mannheim, Waldhof',\n",
       " 'Mozartstraße 16, 77746 Schutterwald',\n",
       " 'Berliner Str. 7, 69502 Hemsbach',\n",
       " 'Jakob-Faulhaber-Str. 2, Schienenstr. 11, 68305 Mannheim, Waldhof']"
      ]
     },
     "execution_count": 234,
     "metadata": {},
     "output_type": "execute_result"
    }
   ],
   "source": [
    "address"
   ]
  },
  {
   "cell_type": "code",
   "execution_count": 1243,
   "metadata": {},
   "outputs": [],
   "source": [
    "with open(\"plz_to_long_lat.json\", \"r\") as f:\n",
    "    jsons = f.read()"
   ]
  },
  {
   "cell_type": "code",
   "execution_count": 1267,
   "metadata": {},
   "outputs": [
    {
     "name": "stdout",
     "output_type": "stream",
     "text": [
      "('Aktenzeichen', 0      0001 K 0020/2019\n",
      "1      0002 K 0019/2018\n",
      "2      0003 K 0095/2020\n",
      "3      0001 K 0001/2020\n",
      "4      0001 K 0071/2020\n",
      "             ...       \n",
      "534    0063 K 0021/2020\n",
      "535    0061 K 0019/2019\n",
      "536    0061 K 0036/2019\n",
      "537    0061 K 0040/2019\n",
      "538    0061 K 0012/2019\n",
      "Name: Aktenzeichen, Length: 539, dtype: object)\n",
      "('Amtsgericht', 0       Ravensburg in Baden-Wuerttemberg\n",
      "1         Biberach in Baden-Wuerttemberg\n",
      "2         Mannheim in Baden-Wuerttemberg\n",
      "3        Offenburg in Baden-Wuerttemberg\n",
      "4         Mannheim in Baden-Wuerttemberg\n",
      "                     ...                \n",
      "534       Elmshorn in Schleswig-Holstein\n",
      "535    Norderstedt in Schleswig-Holstein\n",
      "536    Norderstedt in Schleswig-Holstein\n",
      "537    Norderstedt in Schleswig-Holstein\n",
      "538    Norderstedt in Schleswig-Holstein\n",
      "Name: Amtsgericht, Length: 539, dtype: object)\n",
      "('Links', 0      https://www.zvg-portal.de/index.php?button=showZvg&zvg_id=7352&land_abk=bw\n",
      "1      https://www.zvg-portal.de/index.php?button=showZvg&zvg_id=7365&land_abk=bw\n",
      "2      https://www.zvg-portal.de/index.php?button=showZvg&zvg_id=7405&land_abk=bw\n",
      "3      https://www.zvg-portal.de/index.php?button=showZvg&zvg_id=7341&land_abk=bw\n",
      "4      https://www.zvg-portal.de/index.php?button=showZvg&zvg_id=7404&land_abk=bw\n",
      "                                          ...                                    \n",
      "534     https://www.zvg-portal.de/index.php?button=showZvg&zvg_id=756&land_abk=sh\n",
      "535     https://www.zvg-portal.de/index.php?button=showZvg&zvg_id=757&land_abk=sh\n",
      "536     https://www.zvg-portal.de/index.php?button=showZvg&zvg_id=758&land_abk=sh\n",
      "537     https://www.zvg-portal.de/index.php?button=showZvg&zvg_id=760&land_abk=sh\n",
      "538     https://www.zvg-portal.de/index.php?button=showZvg&zvg_id=759&land_abk=sh\n",
      "Name: Links, Length: 539, dtype: object)\n",
      "('PLZ', 0      88299\n",
      "1      88471\n",
      "2      68305\n",
      "3      77746\n",
      "4      69502\n",
      "       ...  \n",
      "534    25335\n",
      "535    22846\n",
      "536    24558\n",
      "537    24558\n",
      "538    22889\n",
      "Name: PLZ, Length: 539, dtype: object)\n",
      "('Address', 0           Unterzeil , 88299  Leutkirch , Reichenhofen \n",
      "1      Beckenkreuz  11, 88471 Laupheim, Untersulmetingen\n",
      "2                  Hubenstr. 25, 68305 Mannheim, Waldhof\n",
      "3                    Mozartstraße 16, 77746 Schutterwald\n",
      "4                        Berliner Str. 7, 69502 Hemsbach\n",
      "                             ...                        \n",
      "534                      Königstraße  27, 25335 Elmshorn\n",
      "535                     Taubenstieg 5, 22846 Norderstedt\n",
      "536                Große Lohe 16, 24558 Henstedt-Ulzburg\n",
      "537         Kisdorfer Straße  19, 24558 Henstedt-Ulzburg\n",
      "538                         Dorfring 30, 22889 Tangstedt\n",
      "Name: Address, Length: 539, dtype: object)\n",
      "('Amtsgericht', 0       Ravensburg in Baden-Wuerttemberg\n",
      "1         Biberach in Baden-Wuerttemberg\n",
      "2         Mannheim in Baden-Wuerttemberg\n",
      "3        Offenburg in Baden-Wuerttemberg\n",
      "4         Mannheim in Baden-Wuerttemberg\n",
      "                     ...                \n",
      "534       Elmshorn in Schleswig-Holstein\n",
      "535    Norderstedt in Schleswig-Holstein\n",
      "536    Norderstedt in Schleswig-Holstein\n",
      "537    Norderstedt in Schleswig-Holstein\n",
      "538    Norderstedt in Schleswig-Holstein\n",
      "Name: Amtsgericht, Length: 539, dtype: object)\n",
      "('Objekt/Lage', 0                       unbebautes Grundstück: Unterzeil , 88299  Leutkirch , Reichenhofen \n",
      "1      Wohnung und Tiefgaragenstellplatz: Beckenkreuz  11, 88471 Laupheim, Untersulmetingen\n",
      "2                  Eigentumswohnung (3 bis 4 Zimmer): Hubenstr. 25, 68305 Mannheim, Waldhof\n",
      "3                              Einfamilienhaus, Garage: Mozartstraße 16, 77746 Schutterwald\n",
      "4                                                    Lager: Berliner Str. 7, 69502 Hemsbach\n",
      "                                               ...                                         \n",
      "534                                    Wohn-/Geschäftshaus: Königstraße  27, 25335 Elmshorn\n",
      "535                                       Einfamilienhaus: Taubenstieg 5, 22846 Norderstedt\n",
      "536                                  Einfamilienhaus: Große Lohe 16, 24558 Henstedt-Ulzburg\n",
      "537                          Mehrfamilienhaus: Kisdorfer Straße  19, 24558 Henstedt-Ulzburg\n",
      "538                                           Einfamilienhaus: Dorfring 30, 22889 Tangstedt\n",
      "Name: Objekt/Lage, Length: 539, dtype: object)\n",
      "('Verkehrswerte', 0                   ['195,000.00']\n",
      "1      ['131,000.00', '12,000.00']\n",
      "2                   ['130,000.00']\n",
      "3                   ['440,000.00']\n",
      "4                   ['110,000.00']\n",
      "                  ...             \n",
      "534                 ['700,000.00']\n",
      "535                 ['593,000.00']\n",
      "536                 ['251,000.00']\n",
      "537                 ['380,000.00']\n",
      "538                 ['282,000.00']\n",
      "Name: Verkehrswerte, Length: 539, dtype: object)\n",
      "('Verkehrswert Text', 0                                       195.000,00\n",
      "1      lfd. Nr. 1 131.000,00\\nlfd. Nr. 2 12.000,00\n",
      "2                                  \\n130.000,00\\n \n",
      "3                                       440.000,00\n",
      "4                                  \\n110.000,00\\n \n",
      "                          ...                     \n",
      "534                                     700.000,00\n",
      "535                                     593.000,00\n",
      "536                                     251.000,--\n",
      "537                                     380.000,00\n",
      "538                 Gesamtverkehrswert: 282.000,--\n",
      "Name: Verkehrswert Text, Length: 539, dtype: object)\n",
      "('Termin', 0      2021-05-25\n",
      "1      2021-06-08\n",
      "2      2021-06-10\n",
      "3      2021-06-10\n",
      "4      2021-06-10\n",
      "          ...    \n",
      "534    2021-06-04\n",
      "535    2021-07-13\n",
      "536    2021-07-20\n",
      "537    2021-07-20\n",
      "538    2021-07-27\n",
      "Name: Termin, Length: 539, dtype: object)\n"
     ]
    }
   ],
   "source": [
    "for x in dfs.items():\n",
    "    print(x)\n",
    "    pass"
   ]
  },
  {
   "cell_type": "code",
   "execution_count": 1229,
   "metadata": {},
   "outputs": [],
   "source": [
    "list_of_dicts = json.loads(jsons)"
   ]
  },
  {
   "cell_type": "code",
   "execution_count": 1236,
   "metadata": {},
   "outputs": [],
   "source": [
    "plz_to_long_lat = {}\n",
    "for d in list_of_dicts:\n",
    "    plz_to_long_lat[d[\"zipcode\"]] = [d[\"longitude\"], d[\"latitude\"]]"
   ]
  },
  {
   "cell_type": "code",
   "execution_count": 1242,
   "metadata": {},
   "outputs": [],
   "source": [
    "with open(\"plz_to_long_lat.json\", \"w\") as f:\n",
    "    f.write(json.dumps(plz_to_long_lat))"
   ]
  },
  {
   "cell_type": "code",
   "execution_count": null,
   "metadata": {},
   "outputs": [],
   "source": []
  }
 ],
 "metadata": {
  "kernelspec": {
   "display_name": "Python 3",
   "language": "python",
   "name": "python3"
  },
  "language_info": {
   "codemirror_mode": {
    "name": "ipython",
    "version": 3
   },
   "file_extension": ".py",
   "mimetype": "text/x-python",
   "name": "python",
   "nbconvert_exporter": "python",
   "pygments_lexer": "ipython3",
   "version": "3.7.6"
  }
 },
 "nbformat": 4,
 "nbformat_minor": 4
}
